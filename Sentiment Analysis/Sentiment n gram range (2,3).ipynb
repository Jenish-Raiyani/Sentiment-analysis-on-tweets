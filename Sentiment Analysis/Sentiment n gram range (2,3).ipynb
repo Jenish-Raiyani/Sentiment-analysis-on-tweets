{
  "cells": [
    {
      "cell_type": "code",
      "execution_count": null,
      "metadata": {
        "id": "U8OC45CWCAui"
      },
      "outputs": [],
      "source": [
        "#utilities\n",
        "import re\n",
        "import numpy as np\n",
        "import pandas as pd\n",
        "#plottingz\n",
        "import seaborn as sns\n",
        "import matplotlib.pyplot as plt"
      ]
    },
    {
      "cell_type": "code",
      "execution_count": null,
      "metadata": {
        "colab": {
          "base_uri": "https://localhost:8080/"
        },
        "id": "JLvhCqfTy2He",
        "outputId": "96d66ac3-302b-461b-def7-d6559f46aaf9"
      },
      "outputs": [
        {
          "output_type": "stream",
          "name": "stdout",
          "text": [
            "Mounted at /content/drive\n"
          ]
        }
      ],
      "source": [
        "from google.colab import drive\n",
        "drive.mount('/content/drive')"
      ]
    },
    {
      "cell_type": "code",
      "execution_count": null,
      "metadata": {
        "colab": {
          "base_uri": "https://localhost:8080/"
        },
        "id": "lCq7aV8IzQTZ",
        "outputId": "e1c9b5ae-84b2-4be3-d9f5-42326a7a6e8e"
      },
      "outputs": [
        {
          "output_type": "stream",
          "name": "stdout",
          "text": [
            "/content/drive/MyDrive/ML Project\n"
          ]
        }
      ],
      "source": [
        "cd /content/drive/\"MyDrive/ML Project\""
      ]
    },
    {
      "cell_type": "markdown",
      "metadata": {
        "id": "kfGt30lcqYy2"
      },
      "source": [
        "\n",
        "Selecting random 10000 tweets from dataset"
      ]
    },
    {
      "cell_type": "code",
      "execution_count": null,
      "metadata": {
        "id": "92No4U4K4gzG"
      },
      "outputs": [],
      "source": [
        "import pandas\n",
        "import random\n",
        "\n",
        "filename = \"training.csv\"\n",
        "n = sum(1 for line in open(filename, encoding = 'Latin-1')) - 1 #number of records in file (excludes header)\n",
        "s = 10000 #desired sample size\n",
        "skip = sorted(random.sample(range(1,n+1),n-s)) #the 0-indexed header will not be included in the skip list\n",
        "df = pandas.read_csv(filename, skiprows=skip,encoding = 'Latin-1',names=('target','id','date','flag','username','tweet'))"
      ]
    },
    {
      "cell_type": "code",
      "execution_count": null,
      "metadata": {
        "colab": {
          "base_uri": "https://localhost:8080/",
          "height": 424
        },
        "id": "ugfQlKasNFP6",
        "outputId": "0ef0a236-f7c9-4052-ba8d-665c6cb92fa3"
      },
      "outputs": [
        {
          "output_type": "execute_result",
          "data": {
            "text/plain": [
              "       target          id                          date      flag  \\\n",
              "0           0  1467810369  Mon Apr 06 22:19:45 PDT 2009  NO_QUERY   \n",
              "1           0  1467873467  Mon Apr 06 22:36:10 PDT 2009  NO_QUERY   \n",
              "2           0  1467900898  Mon Apr 06 22:43:38 PDT 2009  NO_QUERY   \n",
              "3           0  1467953733  Mon Apr 06 22:58:37 PDT 2009  NO_QUERY   \n",
              "4           0  1468012742  Mon Apr 06 23:15:25 PDT 2009  NO_QUERY   \n",
              "...       ...         ...                           ...       ...   \n",
              "9996        4  2193451219  Tue Jun 16 08:28:36 PDT 2009  NO_QUERY   \n",
              "9997        4  2193453443  Tue Jun 16 08:28:47 PDT 2009  NO_QUERY   \n",
              "9998        4  2193503551  Tue Jun 16 08:32:48 PDT 2009  NO_QUERY   \n",
              "9999        4  2193528475  Tue Jun 16 08:34:50 PDT 2009  NO_QUERY   \n",
              "10000       4  2193574852  Tue Jun 16 08:38:37 PDT 2009  NO_QUERY   \n",
              "\n",
              "              username                                              tweet  \n",
              "0      _TheSpecialOne_  @switchfoot http://twitpic.com/2y1zl - Awww, t...  \n",
              "1      meganminesinger  monkeys??? i just found out you my twin and yo...  \n",
              "2       SullieSullivan  I don't understand why things get taken away. ...  \n",
              "3             MonikkaB  @paul_e_wog Wait...is it a game or just episod...  \n",
              "4        awesome_jordy                              being bored at homee   \n",
              "...                ...                                                ...  \n",
              "9996           MoonLoh  is Mompreneur. Any moms in biz? come join the ...  \n",
              "9997   michellepriddle  @adamsmith_3 sorry there my trout, but no one ...  \n",
              "9998             xspit                        #iremember the last sunday   \n",
              "9999             Shash                        @linksforluv  you betcha!!   \n",
              "10000      marshymiffy                         Loved the USA hockey team   \n",
              "\n",
              "[10001 rows x 6 columns]"
            ],
            "text/html": [
              "\n",
              "  <div id=\"df-b551bc0f-b843-448b-9c9e-56bc2f42e855\">\n",
              "    <div class=\"colab-df-container\">\n",
              "      <div>\n",
              "<style scoped>\n",
              "    .dataframe tbody tr th:only-of-type {\n",
              "        vertical-align: middle;\n",
              "    }\n",
              "\n",
              "    .dataframe tbody tr th {\n",
              "        vertical-align: top;\n",
              "    }\n",
              "\n",
              "    .dataframe thead th {\n",
              "        text-align: right;\n",
              "    }\n",
              "</style>\n",
              "<table border=\"1\" class=\"dataframe\">\n",
              "  <thead>\n",
              "    <tr style=\"text-align: right;\">\n",
              "      <th></th>\n",
              "      <th>target</th>\n",
              "      <th>id</th>\n",
              "      <th>date</th>\n",
              "      <th>flag</th>\n",
              "      <th>username</th>\n",
              "      <th>tweet</th>\n",
              "    </tr>\n",
              "  </thead>\n",
              "  <tbody>\n",
              "    <tr>\n",
              "      <th>0</th>\n",
              "      <td>0</td>\n",
              "      <td>1467810369</td>\n",
              "      <td>Mon Apr 06 22:19:45 PDT 2009</td>\n",
              "      <td>NO_QUERY</td>\n",
              "      <td>_TheSpecialOne_</td>\n",
              "      <td>@switchfoot http://twitpic.com/2y1zl - Awww, t...</td>\n",
              "    </tr>\n",
              "    <tr>\n",
              "      <th>1</th>\n",
              "      <td>0</td>\n",
              "      <td>1467873467</td>\n",
              "      <td>Mon Apr 06 22:36:10 PDT 2009</td>\n",
              "      <td>NO_QUERY</td>\n",
              "      <td>meganminesinger</td>\n",
              "      <td>monkeys??? i just found out you my twin and yo...</td>\n",
              "    </tr>\n",
              "    <tr>\n",
              "      <th>2</th>\n",
              "      <td>0</td>\n",
              "      <td>1467900898</td>\n",
              "      <td>Mon Apr 06 22:43:38 PDT 2009</td>\n",
              "      <td>NO_QUERY</td>\n",
              "      <td>SullieSullivan</td>\n",
              "      <td>I don't understand why things get taken away. ...</td>\n",
              "    </tr>\n",
              "    <tr>\n",
              "      <th>3</th>\n",
              "      <td>0</td>\n",
              "      <td>1467953733</td>\n",
              "      <td>Mon Apr 06 22:58:37 PDT 2009</td>\n",
              "      <td>NO_QUERY</td>\n",
              "      <td>MonikkaB</td>\n",
              "      <td>@paul_e_wog Wait...is it a game or just episod...</td>\n",
              "    </tr>\n",
              "    <tr>\n",
              "      <th>4</th>\n",
              "      <td>0</td>\n",
              "      <td>1468012742</td>\n",
              "      <td>Mon Apr 06 23:15:25 PDT 2009</td>\n",
              "      <td>NO_QUERY</td>\n",
              "      <td>awesome_jordy</td>\n",
              "      <td>being bored at homee</td>\n",
              "    </tr>\n",
              "    <tr>\n",
              "      <th>...</th>\n",
              "      <td>...</td>\n",
              "      <td>...</td>\n",
              "      <td>...</td>\n",
              "      <td>...</td>\n",
              "      <td>...</td>\n",
              "      <td>...</td>\n",
              "    </tr>\n",
              "    <tr>\n",
              "      <th>9996</th>\n",
              "      <td>4</td>\n",
              "      <td>2193451219</td>\n",
              "      <td>Tue Jun 16 08:28:36 PDT 2009</td>\n",
              "      <td>NO_QUERY</td>\n",
              "      <td>MoonLoh</td>\n",
              "      <td>is Mompreneur. Any moms in biz? come join the ...</td>\n",
              "    </tr>\n",
              "    <tr>\n",
              "      <th>9997</th>\n",
              "      <td>4</td>\n",
              "      <td>2193453443</td>\n",
              "      <td>Tue Jun 16 08:28:47 PDT 2009</td>\n",
              "      <td>NO_QUERY</td>\n",
              "      <td>michellepriddle</td>\n",
              "      <td>@adamsmith_3 sorry there my trout, but no one ...</td>\n",
              "    </tr>\n",
              "    <tr>\n",
              "      <th>9998</th>\n",
              "      <td>4</td>\n",
              "      <td>2193503551</td>\n",
              "      <td>Tue Jun 16 08:32:48 PDT 2009</td>\n",
              "      <td>NO_QUERY</td>\n",
              "      <td>xspit</td>\n",
              "      <td>#iremember the last sunday</td>\n",
              "    </tr>\n",
              "    <tr>\n",
              "      <th>9999</th>\n",
              "      <td>4</td>\n",
              "      <td>2193528475</td>\n",
              "      <td>Tue Jun 16 08:34:50 PDT 2009</td>\n",
              "      <td>NO_QUERY</td>\n",
              "      <td>Shash</td>\n",
              "      <td>@linksforluv  you betcha!!</td>\n",
              "    </tr>\n",
              "    <tr>\n",
              "      <th>10000</th>\n",
              "      <td>4</td>\n",
              "      <td>2193574852</td>\n",
              "      <td>Tue Jun 16 08:38:37 PDT 2009</td>\n",
              "      <td>NO_QUERY</td>\n",
              "      <td>marshymiffy</td>\n",
              "      <td>Loved the USA hockey team</td>\n",
              "    </tr>\n",
              "  </tbody>\n",
              "</table>\n",
              "<p>10001 rows × 6 columns</p>\n",
              "</div>\n",
              "      <button class=\"colab-df-convert\" onclick=\"convertToInteractive('df-b551bc0f-b843-448b-9c9e-56bc2f42e855')\"\n",
              "              title=\"Convert this dataframe to an interactive table.\"\n",
              "              style=\"display:none;\">\n",
              "        \n",
              "  <svg xmlns=\"http://www.w3.org/2000/svg\" height=\"24px\"viewBox=\"0 0 24 24\"\n",
              "       width=\"24px\">\n",
              "    <path d=\"M0 0h24v24H0V0z\" fill=\"none\"/>\n",
              "    <path d=\"M18.56 5.44l.94 2.06.94-2.06 2.06-.94-2.06-.94-.94-2.06-.94 2.06-2.06.94zm-11 1L8.5 8.5l.94-2.06 2.06-.94-2.06-.94L8.5 2.5l-.94 2.06-2.06.94zm10 10l.94 2.06.94-2.06 2.06-.94-2.06-.94-.94-2.06-.94 2.06-2.06.94z\"/><path d=\"M17.41 7.96l-1.37-1.37c-.4-.4-.92-.59-1.43-.59-.52 0-1.04.2-1.43.59L10.3 9.45l-7.72 7.72c-.78.78-.78 2.05 0 2.83L4 21.41c.39.39.9.59 1.41.59.51 0 1.02-.2 1.41-.59l7.78-7.78 2.81-2.81c.8-.78.8-2.07 0-2.86zM5.41 20L4 18.59l7.72-7.72 1.47 1.35L5.41 20z\"/>\n",
              "  </svg>\n",
              "      </button>\n",
              "      \n",
              "  <style>\n",
              "    .colab-df-container {\n",
              "      display:flex;\n",
              "      flex-wrap:wrap;\n",
              "      gap: 12px;\n",
              "    }\n",
              "\n",
              "    .colab-df-convert {\n",
              "      background-color: #E8F0FE;\n",
              "      border: none;\n",
              "      border-radius: 50%;\n",
              "      cursor: pointer;\n",
              "      display: none;\n",
              "      fill: #1967D2;\n",
              "      height: 32px;\n",
              "      padding: 0 0 0 0;\n",
              "      width: 32px;\n",
              "    }\n",
              "\n",
              "    .colab-df-convert:hover {\n",
              "      background-color: #E2EBFA;\n",
              "      box-shadow: 0px 1px 2px rgba(60, 64, 67, 0.3), 0px 1px 3px 1px rgba(60, 64, 67, 0.15);\n",
              "      fill: #174EA6;\n",
              "    }\n",
              "\n",
              "    [theme=dark] .colab-df-convert {\n",
              "      background-color: #3B4455;\n",
              "      fill: #D2E3FC;\n",
              "    }\n",
              "\n",
              "    [theme=dark] .colab-df-convert:hover {\n",
              "      background-color: #434B5C;\n",
              "      box-shadow: 0px 1px 3px 1px rgba(0, 0, 0, 0.15);\n",
              "      filter: drop-shadow(0px 1px 2px rgba(0, 0, 0, 0.3));\n",
              "      fill: #FFFFFF;\n",
              "    }\n",
              "  </style>\n",
              "\n",
              "      <script>\n",
              "        const buttonEl =\n",
              "          document.querySelector('#df-b551bc0f-b843-448b-9c9e-56bc2f42e855 button.colab-df-convert');\n",
              "        buttonEl.style.display =\n",
              "          google.colab.kernel.accessAllowed ? 'block' : 'none';\n",
              "\n",
              "        async function convertToInteractive(key) {\n",
              "          const element = document.querySelector('#df-b551bc0f-b843-448b-9c9e-56bc2f42e855');\n",
              "          const dataTable =\n",
              "            await google.colab.kernel.invokeFunction('convertToInteractive',\n",
              "                                                     [key], {});\n",
              "          if (!dataTable) return;\n",
              "\n",
              "          const docLinkHtml = 'Like what you see? Visit the ' +\n",
              "            '<a target=\"_blank\" href=https://colab.research.google.com/notebooks/data_table.ipynb>data table notebook</a>'\n",
              "            + ' to learn more about interactive tables.';\n",
              "          element.innerHTML = '';\n",
              "          dataTable['output_type'] = 'display_data';\n",
              "          await google.colab.output.renderOutput(dataTable, element);\n",
              "          const docLink = document.createElement('div');\n",
              "          docLink.innerHTML = docLinkHtml;\n",
              "          element.appendChild(docLink);\n",
              "        }\n",
              "      </script>\n",
              "    </div>\n",
              "  </div>\n",
              "  "
            ]
          },
          "metadata": {},
          "execution_count": 5
        }
      ],
      "source": [
        "df"
      ]
    },
    {
      "cell_type": "code",
      "execution_count": null,
      "metadata": {
        "colab": {
          "base_uri": "https://localhost:8080/"
        },
        "id": "rfvnovFszWCM",
        "outputId": "cc9e1e53-2688-423f-8001-58f9771ae781"
      },
      "outputs": [
        {
          "output_type": "stream",
          "name": "stdout",
          "text": [
            "<class 'pandas.core.frame.DataFrame'>\n",
            "RangeIndex: 10001 entries, 0 to 10000\n",
            "Data columns (total 6 columns):\n",
            " #   Column    Non-Null Count  Dtype \n",
            "---  ------    --------------  ----- \n",
            " 0   target    10001 non-null  int64 \n",
            " 1   id        10001 non-null  int64 \n",
            " 2   date      10001 non-null  object\n",
            " 3   flag      10001 non-null  object\n",
            " 4   username  10001 non-null  object\n",
            " 5   tweet     10001 non-null  object\n",
            "dtypes: int64(2), object(4)\n",
            "memory usage: 468.9+ KB\n"
          ]
        }
      ],
      "source": [
        "df.info()"
      ]
    },
    {
      "cell_type": "code",
      "execution_count": null,
      "metadata": {
        "colab": {
          "base_uri": "https://localhost:8080/"
        },
        "id": "7k87K6P0btwf",
        "outputId": "9e24dbc5-5c6e-4b7b-add0-5565c148464e"
      },
      "outputs": [
        {
          "output_type": "execute_result",
          "data": {
            "text/plain": [
              "(10001, 6)"
            ]
          },
          "metadata": {},
          "execution_count": 7
        }
      ],
      "source": [
        "df.shape"
      ]
    },
    {
      "cell_type": "code",
      "execution_count": null,
      "metadata": {
        "colab": {
          "base_uri": "https://localhost:8080/"
        },
        "id": "WR2l5eXnktHT",
        "outputId": "9b13ede7-b2d0-4d2d-a1a6-bba440ec6150"
      },
      "outputs": [
        {
          "output_type": "execute_result",
          "data": {
            "text/plain": [
              "0        @switchfoot http://twitpic.com/2y1zl - Awww, t...\n",
              "1        monkeys??? i just found out you my twin and yo...\n",
              "2        I don't understand why things get taken away. ...\n",
              "3        @paul_e_wog Wait...is it a game or just episod...\n",
              "4                                    being bored at homee \n",
              "                               ...                        \n",
              "9996     is Mompreneur. Any moms in biz? come join the ...\n",
              "9997     @adamsmith_3 sorry there my trout, but no one ...\n",
              "9998                           #iremember the last sunday \n",
              "9999                           @linksforluv  you betcha!! \n",
              "10000                           Loved the USA hockey team \n",
              "Name: tweet, Length: 10001, dtype: object"
            ]
          },
          "metadata": {},
          "execution_count": 8
        }
      ],
      "source": [
        "df.tweet"
      ]
    },
    {
      "cell_type": "code",
      "execution_count": null,
      "metadata": {
        "colab": {
          "base_uri": "https://localhost:8080/",
          "height": 296
        },
        "id": "F-K3Wmm7z7PL",
        "outputId": "ede603bc-1736-4c76-a7e2-b5c36cb3166b"
      },
      "outputs": [
        {
          "output_type": "execute_result",
          "data": {
            "text/plain": [
              "<matplotlib.axes._subplots.AxesSubplot at 0x7f6c30be7850>"
            ]
          },
          "metadata": {},
          "execution_count": 9
        },
        {
          "output_type": "display_data",
          "data": {
            "text/plain": [
              "<Figure size 432x288 with 1 Axes>"
            ],
            "image/png": "[encoded data removed]"
          },
          "metadata": {
            "needs_background": "light"
          }
        }
      ],
      "source": [
        "sns.countplot(x = 'target',data = df) #The dataset is balanced since there are 5000 positive tweets and 5000 negative tweets."
      ]
    },
    {
      "cell_type": "code",
      "execution_count": null,
      "metadata": {
        "id": "a_aMG6J3z9nv"
      },
      "outputs": [],
      "source": [
        "# dropped columns\n",
        "df.drop(['id','date','flag','username'], axis=1, inplace=True)"
      ]
    },
    {
      "cell_type": "code",
      "execution_count": null,
      "metadata": {
        "colab": {
          "base_uri": "https://localhost:8080/",
          "height": 206
        },
        "id": "0yB7mD6Q0H4d",
        "outputId": "03a76ac5-bdac-43a9-c716-f25c07bebf5d"
      },
      "outputs": [
        {
          "output_type": "execute_result",
          "data": {
            "text/plain": [
              "   target                                              tweet\n",
              "0       0  @switchfoot http://twitpic.com/2y1zl - Awww, t...\n",
              "1       0  monkeys??? i just found out you my twin and yo...\n",
              "2       0  I don't understand why things get taken away. ...\n",
              "3       0  @paul_e_wog Wait...is it a game or just episod...\n",
              "4       0                              being bored at homee "
            ],
            "text/html": [
              "\n",
              "  <div id=\"df-2ef17b58-1cee-4267-b5cd-3e41d4e7001b\">\n",
              "    <div class=\"colab-df-container\">\n",
              "      <div>\n",
              "<style scoped>\n",
              "    .dataframe tbody tr th:only-of-type {\n",
              "        vertical-align: middle;\n",
              "    }\n",
              "\n",
              "    .dataframe tbody tr th {\n",
              "        vertical-align: top;\n",
              "    }\n",
              "\n",
              "    .dataframe thead th {\n",
              "        text-align: right;\n",
              "    }\n",
              "</style>\n",
              "<table border=\"1\" class=\"dataframe\">\n",
              "  <thead>\n",
              "    <tr style=\"text-align: right;\">\n",
              "      <th></th>\n",
              "      <th>target</th>\n",
              "      <th>tweet</th>\n",
              "    </tr>\n",
              "  </thead>\n",
              "  <tbody>\n",
              "    <tr>\n",
              "      <th>0</th>\n",
              "      <td>0</td>\n",
              "      <td>@switchfoot http://twitpic.com/2y1zl - Awww, t...</td>\n",
              "    </tr>\n",
              "    <tr>\n",
              "      <th>1</th>\n",
              "      <td>0</td>\n",
              "      <td>monkeys??? i just found out you my twin and yo...</td>\n",
              "    </tr>\n",
              "    <tr>\n",
              "      <th>2</th>\n",
              "      <td>0</td>\n",
              "      <td>I don't understand why things get taken away. ...</td>\n",
              "    </tr>\n",
              "    <tr>\n",
              "      <th>3</th>\n",
              "      <td>0</td>\n",
              "      <td>@paul_e_wog Wait...is it a game or just episod...</td>\n",
              "    </tr>\n",
              "    <tr>\n",
              "      <th>4</th>\n",
              "      <td>0</td>\n",
              "      <td>being bored at homee</td>\n",
              "    </tr>\n",
              "  </tbody>\n",
              "</table>\n",
              "</div>\n",
              "      <button class=\"colab-df-convert\" onclick=\"convertToInteractive('df-2ef17b58-1cee-4267-b5cd-3e41d4e7001b')\"\n",
              "              title=\"Convert this dataframe to an interactive table.\"\n",
              "              style=\"display:none;\">\n",
              "        \n",
              "  <svg xmlns=\"http://www.w3.org/2000/svg\" height=\"24px\"viewBox=\"0 0 24 24\"\n",
              "       width=\"24px\">\n",
              "    <path d=\"M0 0h24v24H0V0z\" fill=\"none\"/>\n",
              "    <path d=\"M18.56 5.44l.94 2.06.94-2.06 2.06-.94-2.06-.94-.94-2.06-.94 2.06-2.06.94zm-11 1L8.5 8.5l.94-2.06 2.06-.94-2.06-.94L8.5 2.5l-.94 2.06-2.06.94zm10 10l.94 2.06.94-2.06 2.06-.94-2.06-.94-.94-2.06-.94 2.06-2.06.94z\"/><path d=\"M17.41 7.96l-1.37-1.37c-.4-.4-.92-.59-1.43-.59-.52 0-1.04.2-1.43.59L10.3 9.45l-7.72 7.72c-.78.78-.78 2.05 0 2.83L4 21.41c.39.39.9.59 1.41.59.51 0 1.02-.2 1.41-.59l7.78-7.78 2.81-2.81c.8-.78.8-2.07 0-2.86zM5.41 20L4 18.59l7.72-7.72 1.47 1.35L5.41 20z\"/>\n",
              "  </svg>\n",
              "      </button>\n",
              "      \n",
              "  <style>\n",
              "    .colab-df-container {\n",
              "      display:flex;\n",
              "      flex-wrap:wrap;\n",
              "      gap: 12px;\n",
              "    }\n",
              "\n",
              "    .colab-df-convert {\n",
              "      background-color: #E8F0FE;\n",
              "      border: none;\n",
              "      border-radius: 50%;\n",
              "      cursor: pointer;\n",
              "      display: none;\n",
              "      fill: #1967D2;\n",
              "      height: 32px;\n",
              "      padding: 0 0 0 0;\n",
              "      width: 32px;\n",
              "    }\n",
              "\n",
              "    .colab-df-convert:hover {\n",
              "      background-color: #E2EBFA;\n",
              "      box-shadow: 0px 1px 2px rgba(60, 64, 67, 0.3), 0px 1px 3px 1px rgba(60, 64, 67, 0.15);\n",
              "      fill: #174EA6;\n",
              "    }\n",
              "\n",
              "    [theme=dark] .colab-df-convert {\n",
              "      background-color: #3B4455;\n",
              "      fill: #D2E3FC;\n",
              "    }\n",
              "\n",
              "    [theme=dark] .colab-df-convert:hover {\n",
              "      background-color: #434B5C;\n",
              "      box-shadow: 0px 1px 3px 1px rgba(0, 0, 0, 0.15);\n",
              "      filter: drop-shadow(0px 1px 2px rgba(0, 0, 0, 0.3));\n",
              "      fill: #FFFFFF;\n",
              "    }\n",
              "  </style>\n",
              "\n",
              "      <script>\n",
              "        const buttonEl =\n",
              "          document.querySelector('#df-2ef17b58-1cee-4267-b5cd-3e41d4e7001b button.colab-df-convert');\n",
              "        buttonEl.style.display =\n",
              "          google.colab.kernel.accessAllowed ? 'block' : 'none';\n",
              "\n",
              "        async function convertToInteractive(key) {\n",
              "          const element = document.querySelector('#df-2ef17b58-1cee-4267-b5cd-3e41d4e7001b');\n",
              "          const dataTable =\n",
              "            await google.colab.kernel.invokeFunction('convertToInteractive',\n",
              "                                                     [key], {});\n",
              "          if (!dataTable) return;\n",
              "\n",
              "          const docLinkHtml = 'Like what you see? Visit the ' +\n",
              "            '<a target=\"_blank\" href=https://colab.research.google.com/notebooks/data_table.ipynb>data table notebook</a>'\n",
              "            + ' to learn more about interactive tables.';\n",
              "          element.innerHTML = '';\n",
              "          dataTable['output_type'] = 'display_data';\n",
              "          await google.colab.output.renderOutput(dataTable, element);\n",
              "          const docLink = document.createElement('div');\n",
              "          docLink.innerHTML = docLinkHtml;\n",
              "          element.appendChild(docLink);\n",
              "        }\n",
              "      </script>\n",
              "    </div>\n",
              "  </div>\n",
              "  "
            ]
          },
          "metadata": {},
          "execution_count": 11
        }
      ],
      "source": [
        "df.head()"
      ]
    },
    {
      "cell_type": "markdown",
      "metadata": {
        "id": "cyf_JjVerYmZ"
      },
      "source": [
        "Data Preprocessing "
      ]
    },
    {
      "cell_type": "code",
      "execution_count": null,
      "metadata": {
        "id": "t-FXJXv0z6oA"
      },
      "outputs": [],
      "source": [
        "import pandas as pd\n",
        "import numpy as np\n",
        "from bs4 import BeautifulSoup\n",
        "import re\n",
        "from nltk.tokenize import WordPunctTokenizer"
      ]
    },
    {
      "cell_type": "code",
      "execution_count": null,
      "metadata": {
        "id": "2yPmagapPZqH"
      },
      "outputs": [],
      "source": [
        "emojis = {':)': 'smile', ':-)': 'smile', ';d': 'wink', ':-E': 'vampire', ':(': 'sad', \n",
        "          ':-(': 'sad', ':-<': 'sad', ':P': 'raspberry', ':O': 'surprised',\n",
        "          ':-@': 'shocked', ':@': 'shocked',':-$': 'confused', ':\\\\': 'annoyed', \n",
        "          ':#': 'mute', ':X': 'mute', ':^)': 'smile', ':-&': 'confused', '$_$': 'greedy',\n",
        "          '@@': 'eyeroll', ':-!': 'confused', ':-D': 'smile', ':-0': 'yell', 'O.o': 'confused',\n",
        "          '<(-_-)>': 'robot', 'd[-_-]b': 'dj', \":'-)\": 'sadsmile', ';)': 'wink', \n",
        "          ';-)': 'wink', 'O:-)': 'angel','O*-)': 'angel','(:-D': 'gossip', '=^.^=': 'cat'}\n",
        "\n",
        "stopwordlist = ['a', 'about', 'above', 'after', 'again', 'ain', 'all', 'am', 'an',\n",
        "             'and','any','are', 'as', 'at', 'be', 'because', 'been', 'before',\n",
        "             'being', 'below', 'between','both', 'by', 'can', 'd', 'did', 'do',\n",
        "             'does', 'doing', 'down', 'during', 'each','few', 'for', 'from', \n",
        "             'further', 'had', 'has', 'have', 'having', 'he', 'her', 'here',\n",
        "             'hers', 'herself', 'him', 'himself', 'his', 'how', 'i', 'if', 'in',\n",
        "             'into','is', 'it', 'its', 'itself', 'just', 'll', 'm', 'ma','me', 'more', 'most','my', 'myself', 'now', 'o', 'of', 'on', 'once',\n",
        "             'only', 'or', 'other', 'our', 'ours','ourselves', 'out', 'own', 're',\n",
        "             's', 'same', 'she', \"shes\", 'should', \"shouldve\",'so', 'some', 'such',\n",
        "             't', 'than', 'that', \"thatll\", 'the', 'their', 'theirs', 'them',\n",
        "             'themselves', 'then', 'there', 'these', 'they', 'this', 'those', \n",
        "             'through', 'to', 'too','under', 'until', 'up', 've', 'very', 'was',\n",
        "             'we', 'were', 'what', 'when', 'where','which','while', 'who', 'whom',\n",
        "             'why', 'will', 'with', 'won', 'y', 'you', \"youd\",\"youll\", \"youre\",\n",
        "             \"youve\", 'your', 'yours', 'yourself', 'yourselves'] \n",
        "\n",
        "def preprocess(textdata , wordLemm):\n",
        "    processedText = []\n",
        "  \n",
        "    urlPattern        = r\"((http://)[^ ]*|(https://)[^ ]*|( www\\.)[^ ]*)\"\n",
        "    userPattern       = '@[^\\s]+'\n",
        "    alphaPattern      = \"[^a-zA-Z0-9]\"\n",
        "    sequencePattern   = r\"(.)\\1\\1+\"\n",
        "    seqReplacePattern = r\"\\1\\1\"\n",
        "    \n",
        "    for tweet in textdata:\n",
        "        tweet = tweet.lower()\n",
        "        tweet = re.sub(urlPattern,' URL',tweet)\n",
        "        for emoji in emojis.keys():\n",
        "           tweet = tweet.replace(emoji, \"EMOJI\" + emojis[emoji])        \n",
        "        tweet = re.sub(userPattern,' USER', tweet)        \n",
        "        tweet = re.sub(alphaPattern, \" \", tweet)\n",
        "        tweet = re.sub(sequencePattern, seqReplacePattern, tweet)\n",
        "        #STOPWORDS = set(stopwordlist)\n",
        "        #tweet = \" \" .join([word for word in str(tweet).split() if word not in STOPWORDS])\n",
        "        \n",
        "        tweetwords = ''\n",
        "        for word in tweet.split():\n",
        "            if len(word)>1:\n",
        "                # Lemmatizing the word.\n",
        "                word = wordLemm.lemmatize(word)\n",
        "                tweetwords += (word+' ')\n",
        "            \n",
        "        processedText.append(tweetwords)\n",
        "        \n",
        "    return processedText"
      ]
    },
    {
      "cell_type": "code",
      "execution_count": null,
      "metadata": {
        "colab": {
          "base_uri": "https://localhost:8080/"
        },
        "id": "1M8S4YaNPyNJ",
        "outputId": "29143897-b53c-4f34-887e-7419f335e57f"
      },
      "outputs": [
        {
          "output_type": "stream",
          "name": "stdout",
          "text": [
            "[nltk_data] Downloading package wordnet to /root/nltk_data...\n",
            "[nltk_data]   Unzipping corpora/wordnet.zip.\n"
          ]
        }
      ],
      "source": [
        "import nltk\n",
        "nltk.download('wordnet')\n",
        "from nltk.stem import WordNetLemmatizer\n",
        "wordLemm = WordNetLemmatizer()\n",
        "df.tweet  = preprocess(df.tweet , wordLemm)"
      ]
    },
    {
      "cell_type": "code",
      "execution_count": null,
      "metadata": {
        "colab": {
          "base_uri": "https://localhost:8080/"
        },
        "id": "doyyLrRDQShf",
        "outputId": "76cd3301-e392-44e7-945d-e44c7bc300e3"
      },
      "outputs": [
        {
          "output_type": "execute_result",
          "data": {
            "text/plain": [
              "0        USER URL aww that bummer you shoulda got david...\n",
              "1        monkey just found out you my twin and you wont...\n",
              "2        don understand why thing get taken away didn h...\n",
              "3        USER wait is it game or just episode so confused \n",
              "4                                    being bored at homee \n",
              "                               ...                        \n",
              "9996     is mompreneur any mom in biz come join the fea...\n",
              "9997     USER sorry there my trout but no one want to h...\n",
              "9998                            iremember the last sunday \n",
              "9999                                      USER you betcha \n",
              "10000                           loved the usa hockey team \n",
              "Name: tweet, Length: 10001, dtype: object"
            ]
          },
          "metadata": {},
          "execution_count": 15
        }
      ],
      "source": [
        "df.tweet "
      ]
    },
    {
      "cell_type": "code",
      "execution_count": null,
      "metadata": {
        "id": "xqg4U_b5Uhyz"
      },
      "outputs": [],
      "source": [
        "\n",
        "# sklearn\n",
        "from sklearn.naive_bayes import ComplementNB\n",
        "from sklearn.linear_model import LogisticRegression\n",
        "from sklearn.model_selection import train_test_split \n",
        "from sklearn.feature_extraction.text import CountVectorizer\n",
        "from sklearn.model_selection import GridSearchCV\n",
        "from sklearn.linear_model import SGDClassifier\n",
        "from sklearn.pipeline import Pipeline\n",
        "from sklearn.metrics import confusion_matrix, classification_report, roc_curve, accuracy_score\n",
        "from sklearn import svm\n",
        "from sklearn.naive_bayes import BernoulliNB\n",
        "import matplotlib.pyplot as plt\n",
        "from sklearn.metrics import roc_curve\n",
        "import numpy as np\n",
        "from sklearn.ensemble import RandomForestRegressor\n",
        "from sklearn.ensemble import RandomForestClassifier\n"
      ]
    },
    {
      "cell_type": "code",
      "execution_count": null,
      "metadata": {
        "id": "PImYsnnG344p"
      },
      "outputs": [],
      "source": [
        "# converting the 4 in target column to 1 to denote the value 'positive'\n",
        "df.target = df.target.apply(lambda x: 1 if x==4 else x)"
      ]
    },
    {
      "cell_type": "code",
      "execution_count": null,
      "metadata": {
        "id": "vU2Y3qswT0gs"
      },
      "outputs": [],
      "source": [
        "X = df.tweet\n",
        "y = df.target"
      ]
    },
    {
      "cell_type": "code",
      "execution_count": null,
      "metadata": {
        "colab": {
          "base_uri": "https://localhost:8080/"
        },
        "id": "vyOR5inepn25",
        "outputId": "277aad23-5757-4b77-f753-bb1f28e276a4"
      },
      "outputs": [
        {
          "output_type": "execute_result",
          "data": {
            "text/plain": [
              "0        USER URL aww that bummer you shoulda got david...\n",
              "1        monkey just found out you my twin and you wont...\n",
              "2        don understand why thing get taken away didn h...\n",
              "3        USER wait is it game or just episode so confused \n",
              "4                                    being bored at homee \n",
              "                               ...                        \n",
              "9996     is mompreneur any mom in biz come join the fea...\n",
              "9997     USER sorry there my trout but no one want to h...\n",
              "9998                            iremember the last sunday \n",
              "9999                                      USER you betcha \n",
              "10000                           loved the usa hockey team \n",
              "Name: tweet, Length: 10001, dtype: object"
            ]
          },
          "metadata": {},
          "execution_count": 19
        }
      ],
      "source": [
        "X"
      ]
    },
    {
      "cell_type": "code",
      "execution_count": null,
      "metadata": {
        "id": "F8w3Rb6hT1Xx"
      },
      "outputs": [],
      "source": [
        "X_train, X_test, y_train, y_test = train_test_split(X, y,  train_size = 0.8 , test_size = 0.2 ,random_state=42)\n",
        "# Used 80% data for training and 20% data for testing"
      ]
    },
    {
      "cell_type": "code",
      "source": [
        "X_testtbl= X_test "
      ],
      "metadata": {
        "id": "pNvFlCdgIx9g"
      },
      "execution_count": null,
      "outputs": []
    },
    {
      "cell_type": "code",
      "execution_count": null,
      "metadata": {
        "colab": {
          "base_uri": "https://localhost:8080/"
        },
        "id": "DWK7qkVGpEVG",
        "outputId": "4f7abe31-12d1-4e90-ce51-e6379799450a"
      },
      "outputs": [
        {
          "output_type": "execute_result",
          "data": {
            "text/plain": [
              "1561    USER tried to get an account USER but could ne...\n",
              "1670                                    really miss them \n",
              "6087                   USER thanks think the luck helped \n",
              "6669    gonna mhead to bed now my friend can keep my e...\n",
              "5933    take that back the punk version to rihanna dis...\n",
              "                              ...                        \n",
              "5734    im off twitter have freakin exam in the am tim...\n",
              "5191                     spooky animation short URL dfvp \n",
              "5390    USER dating myself here remember the transpare...\n",
              "860     USER is anyone else having trouble downloading...\n",
              "7270       sun sun sun want to go to the beach to revise \n",
              "Name: tweet, Length: 8000, dtype: object"
            ]
          },
          "metadata": {},
          "execution_count": 42
        }
      ],
      "source": [
        "X_train"
      ]
    },
    {
      "cell_type": "code",
      "execution_count": null,
      "metadata": {
        "colab": {
          "base_uri": "https://localhost:8080/"
        },
        "id": "MwTcXbw7E-k7",
        "outputId": "42c4f7cf-8ae9-400e-915b-eeebcd40c1b3"
      },
      "outputs": [
        {
          "output_type": "stream",
          "name": "stdout",
          "text": [
            "No. of feature_words:  10000\n"
          ]
        },
        {
          "output_type": "stream",
          "name": "stderr",
          "text": [
            "/usr/local/lib/python3.7/dist-packages/sklearn/utils/deprecation.py:87: FutureWarning: Function get_feature_names is deprecated; get_feature_names is deprecated in 1.0 and will be removed in 1.2. Please use get_feature_names_out instead.\n",
            "  warnings.warn(msg, category=FutureWarning)\n"
          ]
        }
      ],
      "source": [
        "#CountVectorizer convert a collection of text documents to a vector of term/token counts\n",
        "vectoriser = CountVectorizer(ngram_range=(2,3),max_df=0.95, min_df=2,max_features=10000)\n",
        "count_vectoriser= vectoriser.fit_transform(X_train)\n",
        "#count_vectoriser= vectoriser.fit_transform(X_train).toarray()\n",
        "print('No. of feature_words: ', len(vectoriser.get_feature_names()))\n",
        "#max_df=0.95, min_df=2,max_features=10000,\n",
        "              "
      ]
    },
    {
      "cell_type": "code",
      "execution_count": null,
      "metadata": {
        "id": "fXF-NDjUT5tL"
      },
      "outputs": [],
      "source": [
        "X_train = vectoriser.transform(X_train)\n",
        "X_test  = vectoriser.transform(X_test)\n"
      ]
    },
    {
      "cell_type": "markdown",
      "metadata": {
        "id": "hsJYXUNmNsa-"
      },
      "source": [
        "LOGISTIC REGRESSION"
      ]
    },
    {
      "cell_type": "code",
      "execution_count": null,
      "metadata": {
        "id": "_hcBnw3dVvXV"
      },
      "outputs": [],
      "source": [
        "# Hyper parameter tuning for logistic regression "
      ]
    },
    {
      "cell_type": "code",
      "execution_count": null,
      "metadata": {
        "id": "fk8DqRYmUCb3"
      },
      "outputs": [],
      "source": [
        "logModel = LogisticRegression()\n",
        "param_grid = [    \n",
        "    {\n",
        "        'C' : np.logspace(-4, 4, 20),\n",
        "        'solver' : ['lbfgs','newton-cg','liblinear','sag','saga'],     \n",
        "    }\n",
        "]\n",
        " \n",
        "\n",
        "        "
      ]
    },
    {
      "cell_type": "code",
      "execution_count": null,
      "metadata": {
        "id": "oSQaySbrmKF1",
        "colab": {
          "base_uri": "https://localhost:8080/"
        },
        "outputId": "b09834d8-0141-4cf1-b614-d2e83e341791"
      },
      "outputs": [
        {
          "output_type": "stream",
          "name": "stdout",
          "text": [
            "Fitting 5 folds for each of 100 candidates, totalling 500 fits\n"
          ]
        },
        {
          "output_type": "stream",
          "name": "stderr",
          "text": [
            "/usr/local/lib/python3.7/dist-packages/sklearn/linear_model/_sag.py:354: ConvergenceWarning: The max_iter was reached which means the coef_ did not converge\n",
            "  ConvergenceWarning,\n"
          ]
        }
      ],
      "source": [
        "clf = GridSearchCV(logModel, param_grid = param_grid, cv = 5, verbose=True, n_jobs=-1)\n",
        "best_clf = clf.fit(X_train,y_train)"
      ]
    },
    {
      "cell_type": "code",
      "execution_count": null,
      "metadata": {
        "colab": {
          "base_uri": "https://localhost:8080/"
        },
        "id": "4SWASjq1eTAw",
        "outputId": "ef12b405-68dd-4c1c-ddea-0d6fcbbaba91"
      },
      "outputs": [
        {
          "output_type": "execute_result",
          "data": {
            "text/plain": [
              "LogisticRegression(C=0.23357214690901212, solver='saga')"
            ]
          },
          "metadata": {},
          "execution_count": 32
        }
      ],
      "source": [
        "best_clf.best_estimator_"
      ]
    },
    {
      "cell_type": "code",
      "execution_count": null,
      "metadata": {
        "id": "aSrEz2nklPFs"
      },
      "outputs": [],
      "source": [
        "from sklearn.decomposition import TruncatedSVD\n",
        "\n",
        "n_comp = 1000\n",
        "tsvd = TruncatedSVD(n_components = n_comp  , random_state = 42)\n",
        "X_train = tsvd.fit_transform(X_train)\n",
        "X_test = tsvd.transform(X_test)\n"
      ]
    },
    {
      "cell_type": "code",
      "execution_count": null,
      "metadata": {
        "colab": {
          "base_uri": "https://localhost:8080/"
        },
        "id": "dJG8_iqKjQbA",
        "outputId": "1578d30b-1a5a-4172-9cbc-e06bfff04cae"
      },
      "outputs": [
        {
          "output_type": "stream",
          "name": "stdout",
          "text": [
            "[[577 277]\n",
            " [424 723]]\n"
          ]
        }
      ],
      "source": [
        "logistic = LogisticRegression(C =0.2335, max_iter = 1000, solver= 'saga').fit(X_train,y_train)\n",
        "#testing\n",
        "y_pred2= logistic.predict(X_test)\n",
        "print(confusion_matrix(y_pred2,y_test))"
      ]
    },
    {
      "cell_type": "code",
      "execution_count": null,
      "metadata": {
        "colab": {
          "base_uri": "https://localhost:8080/"
        },
        "id": "W3jj0nfqN_w5",
        "outputId": "48439fd0-02cb-4abf-9196-de96dd81374c"
      },
      "outputs": [
        {
          "output_type": "stream",
          "name": "stdout",
          "text": [
            "              precision    recall  f1-score   support\n",
            "\n",
            "           0       0.58      0.68      0.62       854\n",
            "           1       0.72      0.63      0.67      1147\n",
            "\n",
            "    accuracy                           0.65      2001\n",
            "   macro avg       0.65      0.65      0.65      2001\n",
            "weighted avg       0.66      0.65      0.65      2001\n",
            "\n"
          ]
        }
      ],
      "source": [
        "print(classification_report(y_pred2,y_test))\n",
        " "
      ]
    },
    {
      "cell_type": "code",
      "execution_count": null,
      "metadata": {
        "id": "fHI7-8mJmzxi"
      },
      "outputs": [],
      "source": [
        "# dataframe for test and predicted sentiments (from logistic regression model)\n",
        "LRtest = pd.DataFrame(list(zip(X_testtbl ,y_pred2, y_test)),\n",
        "                    columns = ['TEST_TWEETS', 'PREDICTED' , 'ORIGINAL'])"
      ]
    },
    {
      "cell_type": "code",
      "execution_count": null,
      "metadata": {
        "colab": {
          "base_uri": "https://localhost:8080/",
          "height": 424
        },
        "id": "EIn-Qq7y1Q0Q",
        "outputId": "b00acf41-4bd6-48c0-a14e-b9b703f4bf22"
      },
      "outputs": [
        {
          "output_type": "execute_result",
          "data": {
            "text/plain": [
              "                                            TEST_TWEETS  PREDICTED  ORIGINAL\n",
              "0     USER that why always had an affinity for the q...          1         1\n",
              "1     countin down the day till mi bday can wait til...          1         0\n",
              "2     USER no way USER friday in central park that s...          0         0\n",
              "3                                   USER still no good           0         0\n",
              "4     USER USER wanna sit on the leather chair too f...          1         0\n",
              "...                                                 ...        ...       ...\n",
              "1996  USER hey there thanks for accepting my invite ...          1         1\n",
              "1997  so many farewell happening at work maybe mine ...          0         1\n",
              "1998                 is coming back to ruston tomorrow           0         0\n",
              "1999  USER tim tailor did the same until 30min ago o...          1         1\n",
              "2000  USER you can call me lee if you like answer to...          1         1\n",
              "\n",
              "[2001 rows x 3 columns]"
            ],
            "text/html": [
              "\n",
              "  <div id=\"df-89b716b2-4b57-4a38-ab9d-94b66e5bf4b0\">\n",
              "    <div class=\"colab-df-container\">\n",
              "      <div>\n",
              "<style scoped>\n",
              "    .dataframe tbody tr th:only-of-type {\n",
              "        vertical-align: middle;\n",
              "    }\n",
              "\n",
              "    .dataframe tbody tr th {\n",
              "        vertical-align: top;\n",
              "    }\n",
              "\n",
              "    .dataframe thead th {\n",
              "        text-align: right;\n",
              "    }\n",
              "</style>\n",
              "<table border=\"1\" class=\"dataframe\">\n",
              "  <thead>\n",
              "    <tr style=\"text-align: right;\">\n",
              "      <th></th>\n",
              "      <th>TEST_TWEETS</th>\n",
              "      <th>PREDICTED</th>\n",
              "      <th>ORIGINAL</th>\n",
              "    </tr>\n",
              "  </thead>\n",
              "  <tbody>\n",
              "    <tr>\n",
              "      <th>0</th>\n",
              "      <td>USER that why always had an affinity for the q...</td>\n",
              "      <td>1</td>\n",
              "      <td>1</td>\n",
              "    </tr>\n",
              "    <tr>\n",
              "      <th>1</th>\n",
              "      <td>countin down the day till mi bday can wait til...</td>\n",
              "      <td>1</td>\n",
              "      <td>0</td>\n",
              "    </tr>\n",
              "    <tr>\n",
              "      <th>2</th>\n",
              "      <td>USER no way USER friday in central park that s...</td>\n",
              "      <td>0</td>\n",
              "      <td>0</td>\n",
              "    </tr>\n",
              "    <tr>\n",
              "      <th>3</th>\n",
              "      <td>USER still no good</td>\n",
              "      <td>0</td>\n",
              "      <td>0</td>\n",
              "    </tr>\n",
              "    <tr>\n",
              "      <th>4</th>\n",
              "      <td>USER USER wanna sit on the leather chair too f...</td>\n",
              "      <td>1</td>\n",
              "      <td>0</td>\n",
              "    </tr>\n",
              "    <tr>\n",
              "      <th>...</th>\n",
              "      <td>...</td>\n",
              "      <td>...</td>\n",
              "      <td>...</td>\n",
              "    </tr>\n",
              "    <tr>\n",
              "      <th>1996</th>\n",
              "      <td>USER hey there thanks for accepting my invite ...</td>\n",
              "      <td>1</td>\n",
              "      <td>1</td>\n",
              "    </tr>\n",
              "    <tr>\n",
              "      <th>1997</th>\n",
              "      <td>so many farewell happening at work maybe mine ...</td>\n",
              "      <td>0</td>\n",
              "      <td>1</td>\n",
              "    </tr>\n",
              "    <tr>\n",
              "      <th>1998</th>\n",
              "      <td>is coming back to ruston tomorrow</td>\n",
              "      <td>0</td>\n",
              "      <td>0</td>\n",
              "    </tr>\n",
              "    <tr>\n",
              "      <th>1999</th>\n",
              "      <td>USER tim tailor did the same until 30min ago o...</td>\n",
              "      <td>1</td>\n",
              "      <td>1</td>\n",
              "    </tr>\n",
              "    <tr>\n",
              "      <th>2000</th>\n",
              "      <td>USER you can call me lee if you like answer to...</td>\n",
              "      <td>1</td>\n",
              "      <td>1</td>\n",
              "    </tr>\n",
              "  </tbody>\n",
              "</table>\n",
              "<p>2001 rows × 3 columns</p>\n",
              "</div>\n",
              "      <button class=\"colab-df-convert\" onclick=\"convertToInteractive('df-89b716b2-4b57-4a38-ab9d-94b66e5bf4b0')\"\n",
              "              title=\"Convert this dataframe to an interactive table.\"\n",
              "              style=\"display:none;\">\n",
              "        \n",
              "  <svg xmlns=\"http://www.w3.org/2000/svg\" height=\"24px\"viewBox=\"0 0 24 24\"\n",
              "       width=\"24px\">\n",
              "    <path d=\"M0 0h24v24H0V0z\" fill=\"none\"/>\n",
              "    <path d=\"M18.56 5.44l.94 2.06.94-2.06 2.06-.94-2.06-.94-.94-2.06-.94 2.06-2.06.94zm-11 1L8.5 8.5l.94-2.06 2.06-.94-2.06-.94L8.5 2.5l-.94 2.06-2.06.94zm10 10l.94 2.06.94-2.06 2.06-.94-2.06-.94-.94-2.06-.94 2.06-2.06.94z\"/><path d=\"M17.41 7.96l-1.37-1.37c-.4-.4-.92-.59-1.43-.59-.52 0-1.04.2-1.43.59L10.3 9.45l-7.72 7.72c-.78.78-.78 2.05 0 2.83L4 21.41c.39.39.9.59 1.41.59.51 0 1.02-.2 1.41-.59l7.78-7.78 2.81-2.81c.8-.78.8-2.07 0-2.86zM5.41 20L4 18.59l7.72-7.72 1.47 1.35L5.41 20z\"/>\n",
              "  </svg>\n",
              "      </button>\n",
              "      \n",
              "  <style>\n",
              "    .colab-df-container {\n",
              "      display:flex;\n",
              "      flex-wrap:wrap;\n",
              "      gap: 12px;\n",
              "    }\n",
              "\n",
              "    .colab-df-convert {\n",
              "      background-color: #E8F0FE;\n",
              "      border: none;\n",
              "      border-radius: 50%;\n",
              "      cursor: pointer;\n",
              "      display: none;\n",
              "      fill: #1967D2;\n",
              "      height: 32px;\n",
              "      padding: 0 0 0 0;\n",
              "      width: 32px;\n",
              "    }\n",
              "\n",
              "    .colab-df-convert:hover {\n",
              "      background-color: #E2EBFA;\n",
              "      box-shadow: 0px 1px 2px rgba(60, 64, 67, 0.3), 0px 1px 3px 1px rgba(60, 64, 67, 0.15);\n",
              "      fill: #174EA6;\n",
              "    }\n",
              "\n",
              "    [theme=dark] .colab-df-convert {\n",
              "      background-color: #3B4455;\n",
              "      fill: #D2E3FC;\n",
              "    }\n",
              "\n",
              "    [theme=dark] .colab-df-convert:hover {\n",
              "      background-color: #434B5C;\n",
              "      box-shadow: 0px 1px 3px 1px rgba(0, 0, 0, 0.15);\n",
              "      filter: drop-shadow(0px 1px 2px rgba(0, 0, 0, 0.3));\n",
              "      fill: #FFFFFF;\n",
              "    }\n",
              "  </style>\n",
              "\n",
              "      <script>\n",
              "        const buttonEl =\n",
              "          document.querySelector('#df-89b716b2-4b57-4a38-ab9d-94b66e5bf4b0 button.colab-df-convert');\n",
              "        buttonEl.style.display =\n",
              "          google.colab.kernel.accessAllowed ? 'block' : 'none';\n",
              "\n",
              "        async function convertToInteractive(key) {\n",
              "          const element = document.querySelector('#df-89b716b2-4b57-4a38-ab9d-94b66e5bf4b0');\n",
              "          const dataTable =\n",
              "            await google.colab.kernel.invokeFunction('convertToInteractive',\n",
              "                                                     [key], {});\n",
              "          if (!dataTable) return;\n",
              "\n",
              "          const docLinkHtml = 'Like what you see? Visit the ' +\n",
              "            '<a target=\"_blank\" href=https://colab.research.google.com/notebooks/data_table.ipynb>data table notebook</a>'\n",
              "            + ' to learn more about interactive tables.';\n",
              "          element.innerHTML = '';\n",
              "          dataTable['output_type'] = 'display_data';\n",
              "          await google.colab.output.renderOutput(dataTable, element);\n",
              "          const docLink = document.createElement('div');\n",
              "          docLink.innerHTML = docLinkHtml;\n",
              "          element.appendChild(docLink);\n",
              "        }\n",
              "      </script>\n",
              "    </div>\n",
              "  </div>\n",
              "  "
            ]
          },
          "metadata": {},
          "execution_count": 49
        }
      ],
      "source": [
        "LRtest"
      ]
    },
    {
      "cell_type": "code",
      "execution_count": null,
      "metadata": {
        "id": "7kzifW5uXo7w"
      },
      "outputs": [],
      "source": [
        "def model_evaluate(model):\n",
        "    y_pred = model.predict(X_test)\n",
        "    print(classification_report(y_test, y_pred))\n",
        "    # confusion report\n",
        "    cf_matrix = confusion_matrix(y_test, y_pred)\n",
        "    categories = ['Negative', 'Positive']\n",
        "    group_names = ['True Neg', 'False Pos','False Neg','True Pos']\n",
        "    group_percentages = ['{0:.2%}'.format(value) for value in cf_matrix.flatten() / np.sum(cf_matrix)]\n",
        "    labels = [f'{v1}\\n{v2}' for v1, v2 in zip(group_names,group_percentages)]\n",
        "    labels = np.asarray(labels).reshape(2,2)\n",
        "    sns.heatmap(cf_matrix, annot = labels, cmap = 'Blues',fmt = '',\n",
        "                xticklabels = categories, yticklabels = categories)\n",
        "    plt.xlabel(\"Predicted values\", fontdict = {'size':14}, labelpad = 10)\n",
        "    plt.ylabel(\"Actual values\"   , fontdict = {'size':14}, labelpad = 10)\n",
        "    plt.title (\"Confusion Matrix\", fontdict = {'size':18}, pad = 20)"
      ]
    },
    {
      "cell_type": "code",
      "execution_count": null,
      "metadata": {
        "colab": {
          "base_uri": "https://localhost:8080/",
          "height": 479
        },
        "id": "JxnL5o6MV9VC",
        "outputId": "63d18ca7-0138-41e4-d1ff-aa33f258c8ea"
      },
      "outputs": [
        {
          "output_type": "stream",
          "name": "stdout",
          "text": [
            "              precision    recall  f1-score   support\n",
            "\n",
            "           0       0.68      0.58      0.62      1001\n",
            "           1       0.63      0.72      0.67      1000\n",
            "\n",
            "    accuracy                           0.65      2001\n",
            "   macro avg       0.65      0.65      0.65      2001\n",
            "weighted avg       0.65      0.65      0.65      2001\n",
            "\n"
          ]
        },
        {
          "output_type": "display_data",
          "data": {
            "text/plain": [
              "<Figure size 432x288 with 2 Axes>"
            ],
            "image/png": "[encoded data removed]"
          },
          "metadata": {
            "needs_background": "light"
          }
        }
      ],
      "source": [
        "model_evaluate(logistic)"
      ]
    },
    {
      "cell_type": "markdown",
      "metadata": {
        "id": "v9DeAlmPGbUH"
      },
      "source": [
        "NAIVE BAYES MODEL"
      ]
    },
    {
      "cell_type": "code",
      "execution_count": null,
      "metadata": {
        "colab": {
          "base_uri": "https://localhost:8080/"
        },
        "id": "fordk30VGlUV",
        "outputId": "fcd003a1-9daf-4808-bec1-06fa618b3b4e"
      },
      "outputs": [
        {
          "output_type": "stream",
          "name": "stdout",
          "text": [
            "Fitting 5 folds for each of 4 candidates, totalling 20 fits\n",
            "Best Parameters :  {'alpha': 0.01}\n"
          ]
        },
        {
          "output_type": "execute_result",
          "data": {
            "text/plain": [
              "{'alpha': 0.01}"
            ]
          },
          "metadata": {},
          "execution_count": 56
        }
      ],
      "source": [
        "nb_classifier = BernoulliNB()\n",
        "#Hyper parameter tuning for bernouli naive bayes\n",
        "params_NB = { 'alpha': [0.01, 0.1, 0.5, 1.0],}\n",
        "gs_NB = GridSearchCV(estimator=nb_classifier, \n",
        "                 param_grid=params_NB, \n",
        "                 cv=5,   #number of cross-validation \n",
        "                 verbose=True, \n",
        "                 n_jobs=-1)\n",
        "gs_NB.fit(X_train, y_train)\n",
        "print('Best Parameters : ',gs_NB.best_params_)\n",
        "gs_NB.best_params_"
      ]
    },
    {
      "cell_type": "code",
      "execution_count": null,
      "metadata": {
        "id": "EmPTloqrZCUh"
      },
      "outputs": [],
      "source": [
        "BNBmodel = BernoulliNB(alpha=1)\n",
        "BNBmodel.fit(X_train, y_train)\n",
        " \n",
        "y_predBNB = BNBmodel.predict(X_test)\n",
        "\n"
      ]
    },
    {
      "cell_type": "code",
      "execution_count": null,
      "metadata": {
        "colab": {
          "base_uri": "https://localhost:8080/"
        },
        "id": "yk3QJBafaVq4",
        "outputId": "a1a9da09-9c07-40a5-c1fc-7ef4898fe3d0"
      },
      "outputs": [
        {
          "output_type": "stream",
          "name": "stdout",
          "text": [
            "[[797 635]\n",
            " [204 365]]\n",
            "              precision    recall  f1-score   support\n",
            "\n",
            "           0       0.80      0.56      0.66      1432\n",
            "           1       0.36      0.64      0.47       569\n",
            "\n",
            "    accuracy                           0.58      2001\n",
            "   macro avg       0.58      0.60      0.56      2001\n",
            "weighted avg       0.67      0.58      0.60      2001\n",
            "\n"
          ]
        }
      ],
      "source": [
        "#Bernouli naive bayes\n",
        "print(confusion_matrix(y_predBNB,y_test))\n",
        "print(classification_report(y_predBNB,y_test))\n"
      ]
    },
    {
      "cell_type": "code",
      "execution_count": null,
      "metadata": {
        "id": "zWmcvtJr4uvA"
      },
      "outputs": [],
      "source": [
        "Naivetest = pd.DataFrame(list(zip(X_testtbl ,y_predBNB, y_test)),\n",
        "                    columns = ['TEST_TWEETS', 'PREDICTED' , 'ORIGINAL'])"
      ]
    },
    {
      "cell_type": "code",
      "execution_count": null,
      "metadata": {
        "colab": {
          "base_uri": "https://localhost:8080/",
          "height": 424
        },
        "id": "Nxe4SkKrOaBS",
        "outputId": "71d6d07b-c41c-4f29-8e0b-61cbc611bce2"
      },
      "outputs": [
        {
          "output_type": "execute_result",
          "data": {
            "text/plain": [
              "                                            TEST_TWEETS  PREDICTED  ORIGINAL\n",
              "0     USER that why always had an affinity for the q...          0         1\n",
              "1     countin down the day till mi bday can wait til...          0         0\n",
              "2     USER no way USER friday in central park that s...          0         0\n",
              "3                                   USER still no good           0         0\n",
              "4     USER USER wanna sit on the leather chair too f...          0         0\n",
              "...                                                 ...        ...       ...\n",
              "1996  USER hey there thanks for accepting my invite ...          0         1\n",
              "1997  so many farewell happening at work maybe mine ...          0         1\n",
              "1998                 is coming back to ruston tomorrow           0         0\n",
              "1999  USER tim tailor did the same until 30min ago o...          0         1\n",
              "2000  USER you can call me lee if you like answer to...          1         1\n",
              "\n",
              "[2001 rows x 3 columns]"
            ],
            "text/html": [
              "\n",
              "  <div id=\"df-d715095c-fc21-47e8-8f0d-9ce99333feb4\">\n",
              "    <div class=\"colab-df-container\">\n",
              "      <div>\n",
              "<style scoped>\n",
              "    .dataframe tbody tr th:only-of-type {\n",
              "        vertical-align: middle;\n",
              "    }\n",
              "\n",
              "    .dataframe tbody tr th {\n",
              "        vertical-align: top;\n",
              "    }\n",
              "\n",
              "    .dataframe thead th {\n",
              "        text-align: right;\n",
              "    }\n",
              "</style>\n",
              "<table border=\"1\" class=\"dataframe\">\n",
              "  <thead>\n",
              "    <tr style=\"text-align: right;\">\n",
              "      <th></th>\n",
              "      <th>TEST_TWEETS</th>\n",
              "      <th>PREDICTED</th>\n",
              "      <th>ORIGINAL</th>\n",
              "    </tr>\n",
              "  </thead>\n",
              "  <tbody>\n",
              "    <tr>\n",
              "      <th>0</th>\n",
              "      <td>USER that why always had an affinity for the q...</td>\n",
              "      <td>0</td>\n",
              "      <td>1</td>\n",
              "    </tr>\n",
              "    <tr>\n",
              "      <th>1</th>\n",
              "      <td>countin down the day till mi bday can wait til...</td>\n",
              "      <td>0</td>\n",
              "      <td>0</td>\n",
              "    </tr>\n",
              "    <tr>\n",
              "      <th>2</th>\n",
              "      <td>USER no way USER friday in central park that s...</td>\n",
              "      <td>0</td>\n",
              "      <td>0</td>\n",
              "    </tr>\n",
              "    <tr>\n",
              "      <th>3</th>\n",
              "      <td>USER still no good</td>\n",
              "      <td>0</td>\n",
              "      <td>0</td>\n",
              "    </tr>\n",
              "    <tr>\n",
              "      <th>4</th>\n",
              "      <td>USER USER wanna sit on the leather chair too f...</td>\n",
              "      <td>0</td>\n",
              "      <td>0</td>\n",
              "    </tr>\n",
              "    <tr>\n",
              "      <th>...</th>\n",
              "      <td>...</td>\n",
              "      <td>...</td>\n",
              "      <td>...</td>\n",
              "    </tr>\n",
              "    <tr>\n",
              "      <th>1996</th>\n",
              "      <td>USER hey there thanks for accepting my invite ...</td>\n",
              "      <td>0</td>\n",
              "      <td>1</td>\n",
              "    </tr>\n",
              "    <tr>\n",
              "      <th>1997</th>\n",
              "      <td>so many farewell happening at work maybe mine ...</td>\n",
              "      <td>0</td>\n",
              "      <td>1</td>\n",
              "    </tr>\n",
              "    <tr>\n",
              "      <th>1998</th>\n",
              "      <td>is coming back to ruston tomorrow</td>\n",
              "      <td>0</td>\n",
              "      <td>0</td>\n",
              "    </tr>\n",
              "    <tr>\n",
              "      <th>1999</th>\n",
              "      <td>USER tim tailor did the same until 30min ago o...</td>\n",
              "      <td>0</td>\n",
              "      <td>1</td>\n",
              "    </tr>\n",
              "    <tr>\n",
              "      <th>2000</th>\n",
              "      <td>USER you can call me lee if you like answer to...</td>\n",
              "      <td>1</td>\n",
              "      <td>1</td>\n",
              "    </tr>\n",
              "  </tbody>\n",
              "</table>\n",
              "<p>2001 rows × 3 columns</p>\n",
              "</div>\n",
              "      <button class=\"colab-df-convert\" onclick=\"convertToInteractive('df-d715095c-fc21-47e8-8f0d-9ce99333feb4')\"\n",
              "              title=\"Convert this dataframe to an interactive table.\"\n",
              "              style=\"display:none;\">\n",
              "        \n",
              "  <svg xmlns=\"http://www.w3.org/2000/svg\" height=\"24px\"viewBox=\"0 0 24 24\"\n",
              "       width=\"24px\">\n",
              "    <path d=\"M0 0h24v24H0V0z\" fill=\"none\"/>\n",
              "    <path d=\"M18.56 5.44l.94 2.06.94-2.06 2.06-.94-2.06-.94-.94-2.06-.94 2.06-2.06.94zm-11 1L8.5 8.5l.94-2.06 2.06-.94-2.06-.94L8.5 2.5l-.94 2.06-2.06.94zm10 10l.94 2.06.94-2.06 2.06-.94-2.06-.94-.94-2.06-.94 2.06-2.06.94z\"/><path d=\"M17.41 7.96l-1.37-1.37c-.4-.4-.92-.59-1.43-.59-.52 0-1.04.2-1.43.59L10.3 9.45l-7.72 7.72c-.78.78-.78 2.05 0 2.83L4 21.41c.39.39.9.59 1.41.59.51 0 1.02-.2 1.41-.59l7.78-7.78 2.81-2.81c.8-.78.8-2.07 0-2.86zM5.41 20L4 18.59l7.72-7.72 1.47 1.35L5.41 20z\"/>\n",
              "  </svg>\n",
              "      </button>\n",
              "      \n",
              "  <style>\n",
              "    .colab-df-container {\n",
              "      display:flex;\n",
              "      flex-wrap:wrap;\n",
              "      gap: 12px;\n",
              "    }\n",
              "\n",
              "    .colab-df-convert {\n",
              "      background-color: #E8F0FE;\n",
              "      border: none;\n",
              "      border-radius: 50%;\n",
              "      cursor: pointer;\n",
              "      display: none;\n",
              "      fill: #1967D2;\n",
              "      height: 32px;\n",
              "      padding: 0 0 0 0;\n",
              "      width: 32px;\n",
              "    }\n",
              "\n",
              "    .colab-df-convert:hover {\n",
              "      background-color: #E2EBFA;\n",
              "      box-shadow: 0px 1px 2px rgba(60, 64, 67, 0.3), 0px 1px 3px 1px rgba(60, 64, 67, 0.15);\n",
              "      fill: #174EA6;\n",
              "    }\n",
              "\n",
              "    [theme=dark] .colab-df-convert {\n",
              "      background-color: #3B4455;\n",
              "      fill: #D2E3FC;\n",
              "    }\n",
              "\n",
              "    [theme=dark] .colab-df-convert:hover {\n",
              "      background-color: #434B5C;\n",
              "      box-shadow: 0px 1px 3px 1px rgba(0, 0, 0, 0.15);\n",
              "      filter: drop-shadow(0px 1px 2px rgba(0, 0, 0, 0.3));\n",
              "      fill: #FFFFFF;\n",
              "    }\n",
              "  </style>\n",
              "\n",
              "      <script>\n",
              "        const buttonEl =\n",
              "          document.querySelector('#df-d715095c-fc21-47e8-8f0d-9ce99333feb4 button.colab-df-convert');\n",
              "        buttonEl.style.display =\n",
              "          google.colab.kernel.accessAllowed ? 'block' : 'none';\n",
              "\n",
              "        async function convertToInteractive(key) {\n",
              "          const element = document.querySelector('#df-d715095c-fc21-47e8-8f0d-9ce99333feb4');\n",
              "          const dataTable =\n",
              "            await google.colab.kernel.invokeFunction('convertToInteractive',\n",
              "                                                     [key], {});\n",
              "          if (!dataTable) return;\n",
              "\n",
              "          const docLinkHtml = 'Like what you see? Visit the ' +\n",
              "            '<a target=\"_blank\" href=https://colab.research.google.com/notebooks/data_table.ipynb>data table notebook</a>'\n",
              "            + ' to learn more about interactive tables.';\n",
              "          element.innerHTML = '';\n",
              "          dataTable['output_type'] = 'display_data';\n",
              "          await google.colab.output.renderOutput(dataTable, element);\n",
              "          const docLink = document.createElement('div');\n",
              "          docLink.innerHTML = docLinkHtml;\n",
              "          element.appendChild(docLink);\n",
              "        }\n",
              "      </script>\n",
              "    </div>\n",
              "  </div>\n",
              "  "
            ]
          },
          "metadata": {},
          "execution_count": 63
        }
      ],
      "source": [
        "Naivetest"
      ]
    },
    {
      "cell_type": "code",
      "execution_count": null,
      "metadata": {
        "id": "OZtOfvemD9nm"
      },
      "outputs": [],
      "source": [
        "X_train_new, y_train_new = X_train, y_train\n",
        "X1, X2 = np.meshgrid(np.arange(start=X_train_new[:, 0].min()-1,stop = X_train_new[:, 0].max()+1,step=0.01),\n",
        "                     np.arange(start = X_train_new[:, 1].min()-1,stop=X_train_new[:, 1].max()+1,step = 0.01)) #created a 2-Dimensional grid structure"
      ]
    },
    {
      "cell_type": "code",
      "execution_count": null,
      "metadata": {
        "colab": {
          "base_uri": "https://localhost:8080/"
        },
        "id": "yrDLjyFkUa4w",
        "outputId": "417462e6-c44f-4816-bec7-d48d04bc7bcf"
      },
      "outputs": [
        {
          "output_type": "execute_result",
          "data": {
            "text/plain": [
              "(811, 542)"
            ]
          },
          "metadata": {},
          "execution_count": 65
        }
      ],
      "source": [
        "X2.shape"
      ]
    },
    {
      "cell_type": "code",
      "execution_count": null,
      "metadata": {
        "colab": {
          "base_uri": "https://localhost:8080/"
        },
        "id": "IO511kAPUoF3",
        "outputId": "ccd54679-3903-49a9-bd0a-a5be3d3fdecc"
      },
      "outputs": [
        {
          "output_type": "execute_result",
          "data": {
            "text/plain": [
              "(811, 542)"
            ]
          },
          "metadata": {},
          "execution_count": 66
        }
      ],
      "source": [
        "X1.shape"
      ]
    },
    {
      "cell_type": "code",
      "execution_count": null,
      "metadata": {
        "colab": {
          "base_uri": "https://localhost:8080/",
          "height": 497
        },
        "id": "_CXzjg08Vqpj",
        "outputId": "b0da76e9-67ba-4c17-c865-f6cd28d87fe8"
      },
      "outputs": [
        {
          "output_type": "display_data",
          "data": {
            "text/plain": [
              "<Figure size 576x576 with 1 Axes>"
            ],
            "image/png": "[encoded data removed]"
          },
          "metadata": {
            "needs_background": "light"
          }
        }
      ],
      "source": [
        "fpr_dt_1, tpr_dt_1,_=roc_curve(y_test,BNBmodel.predict_proba(X_test)[:,1])\n",
        "plt.plot(fpr_dt_1,tpr_dt_1,label=\"ROC curve\")\n",
        "plt.xlabel('False Positive Rate')\n",
        "plt.ylabel('True Positive Rate')\n",
        "plt.legend()\n",
        "plt.gcf().set_size_inches(8, 8)\n",
        "plt.show()"
      ]
    },
    {
      "cell_type": "markdown",
      "metadata": {
        "id": "Eb0Vs6GaoW2l"
      },
      "source": [
        "SVM"
      ]
    },
    {
      "cell_type": "code",
      "execution_count": null,
      "metadata": {
        "colab": {
          "base_uri": "https://localhost:8080/"
        },
        "id": "1uYnGmIs5aTe",
        "outputId": "94a2dd9e-0be2-4abf-c538-e40bd567c28a"
      },
      "outputs": [
        {
          "name": "stdout",
          "output_type": "stream",
          "text": [
            "Fitting 3 folds for each of 120 candidates, totalling 360 fits\n",
            "0.6845001303395111\n",
            "SVC(C=1, gamma=0.1)\n"
          ]
        }
      ],
      "source": [
        "#Hyper parameter tunning for SVM\n",
        "hyper = {\n",
        "       \n",
        "     'C':[0.05,0.1,0.2,0.3,0.25,0.4,0.5,0.6,0.7,0.8,0.9,1],\n",
        "     'gamma':[0.1,0.2,0.3,0.4,0.5,0.6,0.7,0.8,0.9,1.0],\n",
        "     'kernel':['rbf','linear','poly']\n",
        "      \n",
        "        }\n",
        "\n",
        "gdsvm=GridSearchCV(estimator=svm.SVC(),param_grid=hyper, cv = 3, verbose=True, n_jobs=-1)\n",
        "\n",
        "gdsvm.fit(X_train,y_train)\n",
        "print(gdsvm.best_score_)\n",
        "print(gdsvm.best_estimator_)"
      ]
    },
    {
      "cell_type": "code",
      "execution_count": null,
      "metadata": {
        "id": "29j-FBlm-0uc"
      },
      "outputs": [],
      "source": [
        "\"\"\"\n",
        "Fitting 3 folds for each of 2 candidates, totalling 6 fits\n",
        "\n",
        "0.7261252883524593\n",
        "SVC(kernel='linear')\n",
        "\n",
        "0.7003755063250252\n",
        "SVC(gamma=0.1)\n",
        "\n",
        "0.7238757570907537\n",
        "SVC(C=1)\n",
        "\n",
        "\"\"\""
      ]
    },
    {
      "cell_type": "code",
      "execution_count": null,
      "metadata": {
        "colab": {
          "base_uri": "https://localhost:8080/"
        },
        "id": "QJXVzSQpDpQG",
        "outputId": "e6f973cd-906e-4e3d-9b69-84ab5dfa7b63"
      },
      "outputs": [
        {
          "output_type": "stream",
          "name": "stdout",
          "text": [
            "[[1333  537]\n",
            " [ 695 1436]]\n"
          ]
        }
      ],
      "source": [
        "clf = svm.SVC(kernel='linear',gamma=0.1,C=1) \n",
        "clf.fit(X_train, y_train)\n",
        "\n",
        "y_predsvmgrid = clf.predict(X_test)\n",
        "print(confusion_matrix(y_predsvmgrid,y_test))"
      ]
    },
    {
      "cell_type": "code",
      "execution_count": null,
      "metadata": {
        "colab": {
          "base_uri": "https://localhost:8080/"
        },
        "id": "yNDdsDfNEExh",
        "outputId": "3c57bf00-6c0d-4603-fa77-8bdc8cf74f55"
      },
      "outputs": [
        {
          "output_type": "stream",
          "name": "stdout",
          "text": [
            "              precision    recall  f1-score   support\n",
            "\n",
            "           0       0.66      0.71      0.68      1870\n",
            "           1       0.73      0.67      0.70      2131\n",
            "\n",
            "    accuracy                           0.69      4001\n",
            "   macro avg       0.69      0.69      0.69      4001\n",
            "weighted avg       0.69      0.69      0.69      4001\n",
            "\n"
          ]
        }
      ],
      "source": [
        "print(classification_report(y_predsvmgrid,y_test))"
      ]
    },
    {
      "cell_type": "code",
      "source": [
        "from sklearn.model_selection import learning_curve\n",
        "from sklearn.metrics import f1_score, make_scorer\n",
        "\n",
        "# Custom scorer\n",
        "target = 0 # class you want to plot\n",
        "scorer = make_scorer(lambda y_true, y_pred: f1_score(\n",
        "    y_true, y_pred, \n",
        "    labels=None, \n",
        "    pos_label=target, \n",
        "    average='binary', \n",
        "    sample_weight=None))\n"
      ],
      "metadata": {
        "id": "0v5FYrbJXXYE"
      },
      "execution_count": null,
      "outputs": []
    },
    {
      "cell_type": "code",
      "source": [
        ""
      ],
      "metadata": {
        "id": "pYZK0Z3ofmkE"
      },
      "execution_count": null,
      "outputs": []
    },
    {
      "cell_type": "code",
      "source": [
        "from sklearn.model_selection import learning_curve\n",
        "from sklearn.metrics import f1_score, make_scorer\n",
        "estimator =svm.SVC(kernel='linear',gamma=0.1,C=1) \n",
        "\n",
        "# Custom scorer\n",
        "target = 1 # class you want to plot\n",
        "scorer = make_scorer(lambda y_true, y_pred: f1_score(\n",
        "     y_true, y_pred, \n",
        "     labels=None, \n",
        "     pos_label=target, \n",
        "     average='binary', \n",
        "     sample_weight=None))\n",
        "\n",
        "train_sizes, train_scores, test_scores = learning_curve(\n",
        "    estimator, \n",
        "    X_train, y_train, cv=5, scoring=scorer)"
      ],
      "metadata": {
        "id": "s2oKK2ngfn1V"
      },
      "execution_count": null,
      "outputs": []
    },
    {
      "cell_type": "code",
      "source": [
        "train_mean = np.mean(train_scores, axis=1)\n",
        "train_std = np.std(train_scores, axis=1)\n",
        "test_mean = np.mean(test_scores, axis=1)\n",
        "test_std = np.std(test_scores, axis=1)"
      ],
      "metadata": {
        "id": "2NnCBP_NyDdJ"
      },
      "execution_count": null,
      "outputs": []
    },
    {
      "cell_type": "code",
      "source": [
        "def graphfunctionclass0(title):\n",
        "  train_scores_mean = np.mean(train_scores, axis=1)\n",
        "  train_scores_std = np.std(train_scores, axis=1)\n",
        "  test_scores_mean = np.mean(test_scores, axis=1)\n",
        "  test_scores_std = np.std(test_scores, axis=1)\n",
        "\n",
        "  plt.grid()\n",
        "\n",
        "  plt.fill_between(train_sizes, \n",
        "                 train_scores_mean - train_scores_std,\n",
        "                 train_scores_mean + train_scores_std, \n",
        "                 alpha=0.1, color=\"r\")\n",
        "\n",
        "  plt.fill_between(train_sizes, \n",
        "                 test_scores_mean - test_scores_std,\n",
        "                 test_scores_mean + test_scores_std, \n",
        "                 alpha=0.1, color=\"g\")\n",
        "\n",
        "  plt.plot(train_sizes, train_scores_mean, 'o-', color=\"r\", label=\"Training score\")\n",
        "  plt.title(title)\n",
        "\n",
        "  plt.plot(train_sizes, test_scores_mean, 'o-', color=\"g\", label=\"Cross-validation score\")\n",
        "\n",
        "  plt.legend(loc=\"best\")"
      ],
      "metadata": {
        "id": "jDGHbZ16_f-z"
      },
      "execution_count": null,
      "outputs": []
    },
    {
      "cell_type": "code",
      "source": [
        "def graphfunctionclass1(title):\n",
        "  train_scores_mean = np.mean(train_scores, axis=1)\n",
        "  train_scores_std = np.std(train_scores, axis=1)\n",
        "  test_scores_mean = np.mean(test_scores, axis=1)\n",
        "  test_scores_std = np.std(test_scores, axis=1)\n",
        "  plt.grid()\n",
        "\n",
        "  plt.fill_between(train_sizes, \n",
        "                 train_scores_mean - train_scores_std,\n",
        "                 train_scores_mean + train_scores_std, \n",
        "                 alpha=0.1, color=\"r\")\n",
        "\n",
        "  plt.fill_between(train_sizes, \n",
        "                 test_scores_mean - test_scores_std,\n",
        "                 test_scores_mean + test_scores_std, \n",
        "                 alpha=0.1, color=\"g\")\n",
        "\n",
        "  plt.plot(train_sizes, train_scores_mean, 'o-', color=\"r\", label=\"Training score\")\n",
        "  plt.title(title)\n",
        "\n",
        " \n",
        "  plt.plot(train_sizes, test_scores_mean, 'o-', color=\"g\", label=\"Cross-validation score\")\n",
        "\n",
        "  plt.legend(loc=\"best\")\n",
        "  "
      ],
      "metadata": {
        "id": "O3nR8EELGauG"
      },
      "execution_count": null,
      "outputs": []
    },
    {
      "cell_type": "code",
      "source": [
        ""
      ],
      "metadata": {
        "id": "5foQLhBiaOzL"
      },
      "execution_count": null,
      "outputs": []
    },
    {
      "cell_type": "code",
      "source": [
        "graphfunctionclass0(\"Learning Curves OF F1 Score For SVM Kernel='Poly',Class=0 \")"
      ],
      "metadata": {
        "colab": {
          "base_uri": "https://localhost:8080/",
          "height": 281
        },
        "id": "nillWeK9AGIG",
        "outputId": "0bd848a6-d56c-411f-aa37-cf717802208a"
      },
      "execution_count": null,
      "outputs": [
        {
          "output_type": "display_data",
          "data": {
            "text/plain": [
              "<Figure size 432x288 with 1 Axes>"
            ],
            "image/png": "[encoded data removed]"
          },
          "metadata": {
            "needs_background": "light"
          }
        }
      ]
    },
    {
      "cell_type": "code",
      "source": [
        "graphfunctionclass1(\"Learning Curves OF F1 Score For SVM Kernel='Poly',Class=1 \")"
      ],
      "metadata": {
        "colab": {
          "base_uri": "https://localhost:8080/",
          "height": 281
        },
        "id": "fLkOlBPdaP5J",
        "outputId": "4d600b6a-f932-459b-b377-395288d92038"
      },
      "execution_count": null,
      "outputs": [
        {
          "output_type": "display_data",
          "data": {
            "text/plain": [
              "<Figure size 432x288 with 1 Axes>"
            ],
            "image/png": "[encoded data removed]"
          },
          "metadata": {
            "needs_background": "light"
          }
        }
      ]
    },
    {
      "cell_type": "code",
      "source": [
        "graphfunctionclass0(\"Learning Curves OF F1 Score For SVM Kernel='linear',Class=0 \")\n"
      ],
      "metadata": {
        "colab": {
          "base_uri": "https://localhost:8080/",
          "height": 281
        },
        "id": "5Xh7NLOkEng1",
        "outputId": "1753600f-5901-4c9d-e735-19f5c24151ab"
      },
      "execution_count": null,
      "outputs": [
        {
          "output_type": "display_data",
          "data": {
            "text/plain": [
              "<Figure size 432x288 with 1 Axes>"
            ],
            "image/png": "[encoded data removed]"
          },
          "metadata": {
            "needs_background": "light"
          }
        }
      ]
    },
    {
      "cell_type": "code",
      "source": [
        "graphfunctionclass1(\"Learning Curves OF F1 Score For SVM Kernel='linear',Class=1 \")"
      ],
      "metadata": {
        "colab": {
          "base_uri": "https://localhost:8080/",
          "height": 281
        },
        "id": "GVdwBqXJJEMp",
        "outputId": "3d1e4c15-5f4a-441e-9608-235f41333ec9"
      },
      "execution_count": null,
      "outputs": [
        {
          "output_type": "display_data",
          "data": {
            "text/plain": [
              "<Figure size 432x288 with 1 Axes>"
            ],
            "image/png": "[encoded data removed]"
          },
          "metadata": {
            "needs_background": "light"
          }
        }
      ]
    },
    {
      "cell_type": "code",
      "source": [
        "graphfunctionclass0(\"Learning Curves OF F1 Score For SVM Kernel='rbf',Class=0 \")"
      ],
      "metadata": {
        "colab": {
          "base_uri": "https://localhost:8080/",
          "height": 281
        },
        "id": "I8QmFczGxjmN",
        "outputId": "cd6edb4e-1f75-4876-a72f-7f5a266e8af3"
      },
      "execution_count": null,
      "outputs": [
        {
          "output_type": "display_data",
          "data": {
            "text/plain": [
              "<Figure size 432x288 with 1 Axes>"
            ],
            "image/png": "[encoded data removed]"
          },
          "metadata": {
            "needs_background": "light"
          }
        }
      ]
    },
    {
      "cell_type": "code",
      "source": [
        "graphfunctionclass1(\"Learning Curves OF F1 Score For SVM Kernel='rbf',Class=1 \")"
      ],
      "metadata": {
        "colab": {
          "base_uri": "https://localhost:8080/",
          "height": 281
        },
        "id": "5-hsCYuhepYK",
        "outputId": "48ffe7f0-a619-4fa6-ec17-648f15d46d5f"
      },
      "execution_count": null,
      "outputs": [
        {
          "output_type": "display_data",
          "data": {
            "text/plain": [
              "<Figure size 432x288 with 1 Axes>"
            ],
            "image/png": "[encoded data removed]"
          },
          "metadata": {
            "needs_background": "light"
          }
        }
      ]
    },
    {
      "cell_type": "markdown",
      "source": [
        "Random Forest"
      ],
      "metadata": {
        "id": "WCBKWJbG72Lh"
      }
    },
    {
      "cell_type": "code",
      "execution_count": null,
      "metadata": {
        "id": "pIcH9mQBrWXZ"
      },
      "outputs": [],
      "source": [
        "rfc=RandomForestClassifier(random_state=42)\n",
        "rfcparam_grid = { \n",
        "    'n_estimators': [200, 500],\n",
        "    'max_features': ['auto', 'sqrt', 'log2'],\n",
        "    'max_depth' : [4,5,6,7,8],\n",
        "    'criterion' :['gini', 'entropy']\n",
        "}\n"
      ]
    },
    {
      "cell_type": "code",
      "execution_count": null,
      "metadata": {
        "colab": {
          "base_uri": "https://localhost:8080/"
        },
        "id": "9_PUiCD8rq3h",
        "outputId": "8bcbcb20-4dcf-4799-834f-6d4b42b869a5"
      },
      "outputs": [
        {
          "output_type": "execute_result",
          "data": {
            "text/plain": [
              "GridSearchCV(cv=5, estimator=RandomForestClassifier(random_state=42),\n",
              "             param_grid={'criterion': ['gini', 'entropy'],\n",
              "                         'max_depth': [4, 5, 6, 7, 8],\n",
              "                         'max_features': ['auto', 'sqrt', 'log2'],\n",
              "                         'n_estimators': [200, 500]})"
            ]
          },
          "metadata": {},
          "execution_count": 69
        }
      ],
      "source": [
        "CV_rfc = GridSearchCV(estimator=rfc, param_grid=rfcparam_grid, cv= 5)\n",
        "CV_rfc.fit(X_train, y_train)"
      ]
    },
    {
      "cell_type": "code",
      "execution_count": null,
      "metadata": {
        "colab": {
          "base_uri": "https://localhost:8080/"
        },
        "id": "Iv09xFumr2mp",
        "outputId": "ee85f9ed-9df1-404f-b3ca-ebd5b930cbdf"
      },
      "outputs": [
        {
          "output_type": "execute_result",
          "data": {
            "text/plain": [
              "{'criterion': 'gini',\n",
              " 'max_depth': 8,\n",
              " 'max_features': 'auto',\n",
              " 'n_estimators': 500}"
            ]
          },
          "metadata": {},
          "execution_count": 70
        }
      ],
      "source": [
        "CV_rfc.best_params_"
      ]
    },
    {
      "cell_type": "code",
      "execution_count": null,
      "metadata": {
        "id": "E4r6bj8_uuvE"
      },
      "outputs": [],
      "source": [
        "\n",
        "clf = RandomForestClassifier(n_estimators = 500,max_features = 'auto', max_depth=8,criterion='gini') \n",
        "clf.fit(X_train, y_train)\n",
        "y_predrfc = clf.predict(X_test)\n",
        "#from sklearn import metrics \n",
        "#print(\"ACCURACY OF THE MODEL: \", metrics.accuracy_score(y_test, y_predrfc))"
      ]
    },
    {
      "cell_type": "code",
      "execution_count": null,
      "metadata": {
        "colab": {
          "base_uri": "https://localhost:8080/"
        },
        "id": "YU5yyR5t1sQI",
        "outputId": "7488f16d-b3bf-4e14-c230-718de2a7d95e"
      },
      "outputs": [
        {
          "output_type": "stream",
          "name": "stdout",
          "text": [
            "              precision    recall  f1-score   support\n",
            "\n",
            "           0       0.49      0.65      0.56       750\n",
            "           1       0.74      0.59      0.66      1251\n",
            "\n",
            "    accuracy                           0.61      2001\n",
            "   macro avg       0.61      0.62      0.61      2001\n",
            "weighted avg       0.65      0.61      0.62      2001\n",
            "\n"
          ]
        }
      ],
      "source": [
        "print(classification_report(y_predrfc,y_test))"
      ]
    },
    {
      "cell_type": "code",
      "source": [
        ""
      ],
      "metadata": {
        "id": "oQ7gSOgn6A-P"
      },
      "execution_count": null,
      "outputs": []
    }
  ],
  "metadata": {
    "accelerator": "GPU",
    "colab": {
      "collapsed_sections": [],
      "name": "sentiment ngram.ipynb",
      "provenance": []
    },
    "kernelspec": {
      "display_name": "Python 3",
      "name": "python3"
    },
    "language_info": {
      "name": "python"
    }
  },
  "nbformat": 4,
  "nbformat_minor": 0
}