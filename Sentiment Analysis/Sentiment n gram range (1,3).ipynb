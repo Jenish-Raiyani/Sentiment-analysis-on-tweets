{
  "cells": [
    {
      "cell_type": "code",
      "execution_count": null,
      "metadata": {
        "id": "U8OC45CWCAui"
      },
      "outputs": [],
      "source": [
        "#utilities\n",
        "import re\n",
        "import numpy as np\n",
        "import pandas as pd\n",
        "#plottingz\n",
        "import seaborn as sns\n",
        "import matplotlib.pyplot as plt"
      ]
    },
    {
      "cell_type": "code",
      "execution_count": null,
      "metadata": {
        "colab": {
          "base_uri": "https://localhost:8080/"
        },
        "id": "JLvhCqfTy2He",
        "outputId": "0872b4cf-1ec5-4c89-fe64-66a7d6dc91d7"
      },
      "outputs": [
        {
          "output_type": "stream",
          "name": "stdout",
          "text": [
            "Mounted at /content/drive\n"
          ]
        }
      ],
      "source": [
        "from google.colab import drive\n",
        "drive.mount('/content/drive')"
      ]
    },
    {
      "cell_type": "code",
      "execution_count": null,
      "metadata": {
        "colab": {
          "base_uri": "https://localhost:8080/"
        },
        "id": "lCq7aV8IzQTZ",
        "outputId": "20dd312f-7183-48c9-e90b-a5f6e689f45f"
      },
      "outputs": [
        {
          "output_type": "stream",
          "name": "stdout",
          "text": [
            "/content/drive/MyDrive/ML Project\n"
          ]
        }
      ],
      "source": [
        "cd /content/drive/\"MyDrive/ML Project\""
      ]
    },
    {
      "cell_type": "markdown",
      "metadata": {
        "id": "kfGt30lcqYy2"
      },
      "source": [
        "\n",
        "Selecting random 10000 tweets from dataset"
      ]
    },
    {
      "cell_type": "code",
      "execution_count": null,
      "metadata": {
        "id": "92No4U4K4gzG"
      },
      "outputs": [],
      "source": [
        "import pandas\n",
        "import random\n",
        "\n",
        "filename = \"training.csv\"\n",
        "n = sum(1 for line in open(filename, encoding = 'Latin-1')) - 1 #number of records in file (excludes header)\n",
        "s = 10000 #desired sample size\n",
        "skip = sorted(random.sample(range(1,n+1),n-s)) #the 0-indexed header will not be included in the skip list\n",
        "df = pandas.read_csv(filename, skiprows=skip,encoding = 'Latin-1',names=('target','id','date','flag','username','tweet'))"
      ]
    },
    {
      "cell_type": "code",
      "execution_count": null,
      "metadata": {
        "colab": {
          "base_uri": "https://localhost:8080/",
          "height": 424
        },
        "id": "ugfQlKasNFP6",
        "outputId": "80372fde-b947-49a3-832f-265f440274e4"
      },
      "outputs": [
        {
          "output_type": "execute_result",
          "data": {
            "text/plain": [
              "       target          id                          date      flag  \\\n",
              "0           0  1467810369  Mon Apr 06 22:19:45 PDT 2009  NO_QUERY   \n",
              "1           0  1467857975  Mon Apr 06 22:32:06 PDT 2009  NO_QUERY   \n",
              "2           0  1467863508  Mon Apr 06 22:33:32 PDT 2009  NO_QUERY   \n",
              "3           0  1467912842  Mon Apr 06 22:46:53 PDT 2009  NO_QUERY   \n",
              "4           0  1467965065  Mon Apr 06 23:01:40 PDT 2009  NO_QUERY   \n",
              "...       ...         ...                           ...       ...   \n",
              "9996        4  2193155279  Tue Jun 16 08:04:18 PDT 2009  NO_QUERY   \n",
              "9997        4  2193222712  Tue Jun 16 08:09:49 PDT 2009  NO_QUERY   \n",
              "9998        4  2193223992  Tue Jun 16 08:09:56 PDT 2009  NO_QUERY   \n",
              "9999        4  2193525604  Tue Jun 16 08:34:35 PDT 2009  NO_QUERY   \n",
              "10000       4  2193578138  Tue Jun 16 08:38:54 PDT 2009  NO_QUERY   \n",
              "\n",
              "              username                                              tweet  \n",
              "0      _TheSpecialOne_  @switchfoot http://twitpic.com/2y1zl - Awww, t...  \n",
              "1           szrhnds602                              Borders closed at 10   \n",
              "2             g_rose86  Kind of longs for the bus that shows up at the...  \n",
              "3         KimberlyKane                                     @danadearmond   \n",
              "4             hoopdiva  ugh horrible ending to the sandra kantu story ...  \n",
              "...                ...                                                ...  \n",
              "9996          lboyle09                 NEW JONAS BROTHER CD OUT TODAY!!!   \n",
              "9997   caspercornelius  just got my invoice from @hyperisland. 9925â¬...  \n",
              "9998      CHRISTINE__B  @dsthestar1121 YESSS!!!!  THERE IS NO MAN LIKE...  \n",
              "9999      veganstephen             @Laurake Glad you're digging it dude!   \n",
              "10000       paligurl93                                  checking my mail   \n",
              "\n",
              "[10001 rows x 6 columns]"
            ],
            "text/html": [
              "\n",
              "  <div id=\"df-e3eaaf25-6334-42c5-a2b3-17937e53e71a\">\n",
              "    <div class=\"colab-df-container\">\n",
              "      <div>\n",
              "<style scoped>\n",
              "    .dataframe tbody tr th:only-of-type {\n",
              "        vertical-align: middle;\n",
              "    }\n",
              "\n",
              "    .dataframe tbody tr th {\n",
              "        vertical-align: top;\n",
              "    }\n",
              "\n",
              "    .dataframe thead th {\n",
              "        text-align: right;\n",
              "    }\n",
              "</style>\n",
              "<table border=\"1\" class=\"dataframe\">\n",
              "  <thead>\n",
              "    <tr style=\"text-align: right;\">\n",
              "      <th></th>\n",
              "      <th>target</th>\n",
              "      <th>id</th>\n",
              "      <th>date</th>\n",
              "      <th>flag</th>\n",
              "      <th>username</th>\n",
              "      <th>tweet</th>\n",
              "    </tr>\n",
              "  </thead>\n",
              "  <tbody>\n",
              "    <tr>\n",
              "      <th>0</th>\n",
              "      <td>0</td>\n",
              "      <td>1467810369</td>\n",
              "      <td>Mon Apr 06 22:19:45 PDT 2009</td>\n",
              "      <td>NO_QUERY</td>\n",
              "      <td>_TheSpecialOne_</td>\n",
              "      <td>@switchfoot http://twitpic.com/2y1zl - Awww, t...</td>\n",
              "    </tr>\n",
              "    <tr>\n",
              "      <th>1</th>\n",
              "      <td>0</td>\n",
              "      <td>1467857975</td>\n",
              "      <td>Mon Apr 06 22:32:06 PDT 2009</td>\n",
              "      <td>NO_QUERY</td>\n",
              "      <td>szrhnds602</td>\n",
              "      <td>Borders closed at 10</td>\n",
              "    </tr>\n",
              "    <tr>\n",
              "      <th>2</th>\n",
              "      <td>0</td>\n",
              "      <td>1467863508</td>\n",
              "      <td>Mon Apr 06 22:33:32 PDT 2009</td>\n",
              "      <td>NO_QUERY</td>\n",
              "      <td>g_rose86</td>\n",
              "      <td>Kind of longs for the bus that shows up at the...</td>\n",
              "    </tr>\n",
              "    <tr>\n",
              "      <th>3</th>\n",
              "      <td>0</td>\n",
              "      <td>1467912842</td>\n",
              "      <td>Mon Apr 06 22:46:53 PDT 2009</td>\n",
              "      <td>NO_QUERY</td>\n",
              "      <td>KimberlyKane</td>\n",
              "      <td>@danadearmond</td>\n",
              "    </tr>\n",
              "    <tr>\n",
              "      <th>4</th>\n",
              "      <td>0</td>\n",
              "      <td>1467965065</td>\n",
              "      <td>Mon Apr 06 23:01:40 PDT 2009</td>\n",
              "      <td>NO_QUERY</td>\n",
              "      <td>hoopdiva</td>\n",
              "      <td>ugh horrible ending to the sandra kantu story ...</td>\n",
              "    </tr>\n",
              "    <tr>\n",
              "      <th>...</th>\n",
              "      <td>...</td>\n",
              "      <td>...</td>\n",
              "      <td>...</td>\n",
              "      <td>...</td>\n",
              "      <td>...</td>\n",
              "      <td>...</td>\n",
              "    </tr>\n",
              "    <tr>\n",
              "      <th>9996</th>\n",
              "      <td>4</td>\n",
              "      <td>2193155279</td>\n",
              "      <td>Tue Jun 16 08:04:18 PDT 2009</td>\n",
              "      <td>NO_QUERY</td>\n",
              "      <td>lboyle09</td>\n",
              "      <td>NEW JONAS BROTHER CD OUT TODAY!!!</td>\n",
              "    </tr>\n",
              "    <tr>\n",
              "      <th>9997</th>\n",
              "      <td>4</td>\n",
              "      <td>2193222712</td>\n",
              "      <td>Tue Jun 16 08:09:49 PDT 2009</td>\n",
              "      <td>NO_QUERY</td>\n",
              "      <td>caspercornelius</td>\n",
              "      <td>just got my invoice from @hyperisland. 9925â¬...</td>\n",
              "    </tr>\n",
              "    <tr>\n",
              "      <th>9998</th>\n",
              "      <td>4</td>\n",
              "      <td>2193223992</td>\n",
              "      <td>Tue Jun 16 08:09:56 PDT 2009</td>\n",
              "      <td>NO_QUERY</td>\n",
              "      <td>CHRISTINE__B</td>\n",
              "      <td>@dsthestar1121 YESSS!!!!  THERE IS NO MAN LIKE...</td>\n",
              "    </tr>\n",
              "    <tr>\n",
              "      <th>9999</th>\n",
              "      <td>4</td>\n",
              "      <td>2193525604</td>\n",
              "      <td>Tue Jun 16 08:34:35 PDT 2009</td>\n",
              "      <td>NO_QUERY</td>\n",
              "      <td>veganstephen</td>\n",
              "      <td>@Laurake Glad you're digging it dude!</td>\n",
              "    </tr>\n",
              "    <tr>\n",
              "      <th>10000</th>\n",
              "      <td>4</td>\n",
              "      <td>2193578138</td>\n",
              "      <td>Tue Jun 16 08:38:54 PDT 2009</td>\n",
              "      <td>NO_QUERY</td>\n",
              "      <td>paligurl93</td>\n",
              "      <td>checking my mail</td>\n",
              "    </tr>\n",
              "  </tbody>\n",
              "</table>\n",
              "<p>10001 rows × 6 columns</p>\n",
              "</div>\n",
              "      <button class=\"colab-df-convert\" onclick=\"convertToInteractive('df-e3eaaf25-6334-42c5-a2b3-17937e53e71a')\"\n",
              "              title=\"Convert this dataframe to an interactive table.\"\n",
              "              style=\"display:none;\">\n",
              "        \n",
              "  <svg xmlns=\"http://www.w3.org/2000/svg\" height=\"24px\"viewBox=\"0 0 24 24\"\n",
              "       width=\"24px\">\n",
              "    <path d=\"M0 0h24v24H0V0z\" fill=\"none\"/>\n",
              "    <path d=\"M18.56 5.44l.94 2.06.94-2.06 2.06-.94-2.06-.94-.94-2.06-.94 2.06-2.06.94zm-11 1L8.5 8.5l.94-2.06 2.06-.94-2.06-.94L8.5 2.5l-.94 2.06-2.06.94zm10 10l.94 2.06.94-2.06 2.06-.94-2.06-.94-.94-2.06-.94 2.06-2.06.94z\"/><path d=\"M17.41 7.96l-1.37-1.37c-.4-.4-.92-.59-1.43-.59-.52 0-1.04.2-1.43.59L10.3 9.45l-7.72 7.72c-.78.78-.78 2.05 0 2.83L4 21.41c.39.39.9.59 1.41.59.51 0 1.02-.2 1.41-.59l7.78-7.78 2.81-2.81c.8-.78.8-2.07 0-2.86zM5.41 20L4 18.59l7.72-7.72 1.47 1.35L5.41 20z\"/>\n",
              "  </svg>\n",
              "      </button>\n",
              "      \n",
              "  <style>\n",
              "    .colab-df-container {\n",
              "      display:flex;\n",
              "      flex-wrap:wrap;\n",
              "      gap: 12px;\n",
              "    }\n",
              "\n",
              "    .colab-df-convert {\n",
              "      background-color: #E8F0FE;\n",
              "      border: none;\n",
              "      border-radius: 50%;\n",
              "      cursor: pointer;\n",
              "      display: none;\n",
              "      fill: #1967D2;\n",
              "      height: 32px;\n",
              "      padding: 0 0 0 0;\n",
              "      width: 32px;\n",
              "    }\n",
              "\n",
              "    .colab-df-convert:hover {\n",
              "      background-color: #E2EBFA;\n",
              "      box-shadow: 0px 1px 2px rgba(60, 64, 67, 0.3), 0px 1px 3px 1px rgba(60, 64, 67, 0.15);\n",
              "      fill: #174EA6;\n",
              "    }\n",
              "\n",
              "    [theme=dark] .colab-df-convert {\n",
              "      background-color: #3B4455;\n",
              "      fill: #D2E3FC;\n",
              "    }\n",
              "\n",
              "    [theme=dark] .colab-df-convert:hover {\n",
              "      background-color: #434B5C;\n",
              "      box-shadow: 0px 1px 3px 1px rgba(0, 0, 0, 0.15);\n",
              "      filter: drop-shadow(0px 1px 2px rgba(0, 0, 0, 0.3));\n",
              "      fill: #FFFFFF;\n",
              "    }\n",
              "  </style>\n",
              "\n",
              "      <script>\n",
              "        const buttonEl =\n",
              "          document.querySelector('#df-e3eaaf25-6334-42c5-a2b3-17937e53e71a button.colab-df-convert');\n",
              "        buttonEl.style.display =\n",
              "          google.colab.kernel.accessAllowed ? 'block' : 'none';\n",
              "\n",
              "        async function convertToInteractive(key) {\n",
              "          const element = document.querySelector('#df-e3eaaf25-6334-42c5-a2b3-17937e53e71a');\n",
              "          const dataTable =\n",
              "            await google.colab.kernel.invokeFunction('convertToInteractive',\n",
              "                                                     [key], {});\n",
              "          if (!dataTable) return;\n",
              "\n",
              "          const docLinkHtml = 'Like what you see? Visit the ' +\n",
              "            '<a target=\"_blank\" href=https://colab.research.google.com/notebooks/data_table.ipynb>data table notebook</a>'\n",
              "            + ' to learn more about interactive tables.';\n",
              "          element.innerHTML = '';\n",
              "          dataTable['output_type'] = 'display_data';\n",
              "          await google.colab.output.renderOutput(dataTable, element);\n",
              "          const docLink = document.createElement('div');\n",
              "          docLink.innerHTML = docLinkHtml;\n",
              "          element.appendChild(docLink);\n",
              "        }\n",
              "      </script>\n",
              "    </div>\n",
              "  </div>\n",
              "  "
            ]
          },
          "metadata": {},
          "execution_count": 5
        }
      ],
      "source": [
        "df"
      ]
    },
    {
      "cell_type": "code",
      "execution_count": null,
      "metadata": {
        "colab": {
          "base_uri": "https://localhost:8080/"
        },
        "id": "rfvnovFszWCM",
        "outputId": "09b64a31-34dd-43de-8d03-ae46bf873e06"
      },
      "outputs": [
        {
          "output_type": "stream",
          "name": "stdout",
          "text": [
            "<class 'pandas.core.frame.DataFrame'>\n",
            "RangeIndex: 10001 entries, 0 to 10000\n",
            "Data columns (total 6 columns):\n",
            " #   Column    Non-Null Count  Dtype \n",
            "---  ------    --------------  ----- \n",
            " 0   target    10001 non-null  int64 \n",
            " 1   id        10001 non-null  int64 \n",
            " 2   date      10001 non-null  object\n",
            " 3   flag      10001 non-null  object\n",
            " 4   username  10001 non-null  object\n",
            " 5   tweet     10001 non-null  object\n",
            "dtypes: int64(2), object(4)\n",
            "memory usage: 468.9+ KB\n"
          ]
        }
      ],
      "source": [
        "df.info()"
      ]
    },
    {
      "cell_type": "code",
      "execution_count": null,
      "metadata": {
        "colab": {
          "base_uri": "https://localhost:8080/"
        },
        "id": "7k87K6P0btwf",
        "outputId": "1956fe6d-670b-4f8f-9910-e4a7b2941f7a"
      },
      "outputs": [
        {
          "output_type": "execute_result",
          "data": {
            "text/plain": [
              "(10001, 6)"
            ]
          },
          "metadata": {},
          "execution_count": 7
        }
      ],
      "source": [
        "df.shape"
      ]
    },
    {
      "cell_type": "code",
      "execution_count": null,
      "metadata": {
        "colab": {
          "base_uri": "https://localhost:8080/"
        },
        "id": "WR2l5eXnktHT",
        "outputId": "b27a45a4-54cf-445e-ccc3-d33b7a907ee1"
      },
      "outputs": [
        {
          "output_type": "execute_result",
          "data": {
            "text/plain": [
              "0        @switchfoot http://twitpic.com/2y1zl - Awww, t...\n",
              "1                                    Borders closed at 10 \n",
              "2        Kind of longs for the bus that shows up at the...\n",
              "3                                           @danadearmond \n",
              "4        ugh horrible ending to the sandra kantu story ...\n",
              "                               ...                        \n",
              "9996                    NEW JONAS BROTHER CD OUT TODAY!!! \n",
              "9997     just got my invoice from @hyperisland. 9925â¬...\n",
              "9998     @dsthestar1121 YESSS!!!!  THERE IS NO MAN LIKE...\n",
              "9999                @Laurake Glad you're digging it dude! \n",
              "10000                                    checking my mail \n",
              "Name: tweet, Length: 10001, dtype: object"
            ]
          },
          "metadata": {},
          "execution_count": 8
        }
      ],
      "source": [
        "df.tweet"
      ]
    },
    {
      "cell_type": "code",
      "execution_count": null,
      "metadata": {
        "colab": {
          "base_uri": "https://localhost:8080/",
          "height": 296
        },
        "id": "F-K3Wmm7z7PL",
        "outputId": "1c0db47f-49ed-4a0d-b39c-25e12aea8e95"
      },
      "outputs": [
        {
          "output_type": "execute_result",
          "data": {
            "text/plain": [
              "<matplotlib.axes._subplots.AxesSubplot at 0x7f29c54370d0>"
            ]
          },
          "metadata": {},
          "execution_count": 9
        },
        {
          "output_type": "display_data",
          "data": {
            "text/plain": [
              "<Figure size 432x288 with 1 Axes>"
            ],
            "image/png": "[encoded data removed]"
          },
          "metadata": {
            "needs_background": "light"
          }
        }
      ],
      "source": [
        "sns.countplot(x = 'target',data = df) #The dataset is balanced since there are 5000 positive tweets and 5000 negative tweets."
      ]
    },
    {
      "cell_type": "code",
      "execution_count": null,
      "metadata": {
        "id": "a_aMG6J3z9nv"
      },
      "outputs": [],
      "source": [
        "# dropped columns\n",
        "df.drop(['id','date','flag','username'], axis=1, inplace=True)"
      ]
    },
    {
      "cell_type": "code",
      "execution_count": null,
      "metadata": {
        "colab": {
          "base_uri": "https://localhost:8080/",
          "height": 206
        },
        "id": "0yB7mD6Q0H4d",
        "outputId": "8ec17dcb-9986-4ebd-a383-7425527ec9fa"
      },
      "outputs": [
        {
          "output_type": "execute_result",
          "data": {
            "text/plain": [
              "   target                                              tweet\n",
              "0       0  @switchfoot http://twitpic.com/2y1zl - Awww, t...\n",
              "1       0                              Borders closed at 10 \n",
              "2       0  Kind of longs for the bus that shows up at the...\n",
              "3       0                                     @danadearmond \n",
              "4       0  ugh horrible ending to the sandra kantu story ..."
            ],
            "text/html": [
              "\n",
              "  <div id=\"df-8dc2efbd-304e-4409-9587-70f4b14e68fc\">\n",
              "    <div class=\"colab-df-container\">\n",
              "      <div>\n",
              "<style scoped>\n",
              "    .dataframe tbody tr th:only-of-type {\n",
              "        vertical-align: middle;\n",
              "    }\n",
              "\n",
              "    .dataframe tbody tr th {\n",
              "        vertical-align: top;\n",
              "    }\n",
              "\n",
              "    .dataframe thead th {\n",
              "        text-align: right;\n",
              "    }\n",
              "</style>\n",
              "<table border=\"1\" class=\"dataframe\">\n",
              "  <thead>\n",
              "    <tr style=\"text-align: right;\">\n",
              "      <th></th>\n",
              "      <th>target</th>\n",
              "      <th>tweet</th>\n",
              "    </tr>\n",
              "  </thead>\n",
              "  <tbody>\n",
              "    <tr>\n",
              "      <th>0</th>\n",
              "      <td>0</td>\n",
              "      <td>@switchfoot http://twitpic.com/2y1zl - Awww, t...</td>\n",
              "    </tr>\n",
              "    <tr>\n",
              "      <th>1</th>\n",
              "      <td>0</td>\n",
              "      <td>Borders closed at 10</td>\n",
              "    </tr>\n",
              "    <tr>\n",
              "      <th>2</th>\n",
              "      <td>0</td>\n",
              "      <td>Kind of longs for the bus that shows up at the...</td>\n",
              "    </tr>\n",
              "    <tr>\n",
              "      <th>3</th>\n",
              "      <td>0</td>\n",
              "      <td>@danadearmond</td>\n",
              "    </tr>\n",
              "    <tr>\n",
              "      <th>4</th>\n",
              "      <td>0</td>\n",
              "      <td>ugh horrible ending to the sandra kantu story ...</td>\n",
              "    </tr>\n",
              "  </tbody>\n",
              "</table>\n",
              "</div>\n",
              "      <button class=\"colab-df-convert\" onclick=\"convertToInteractive('df-8dc2efbd-304e-4409-9587-70f4b14e68fc')\"\n",
              "              title=\"Convert this dataframe to an interactive table.\"\n",
              "              style=\"display:none;\">\n",
              "        \n",
              "  <svg xmlns=\"http://www.w3.org/2000/svg\" height=\"24px\"viewBox=\"0 0 24 24\"\n",
              "       width=\"24px\">\n",
              "    <path d=\"M0 0h24v24H0V0z\" fill=\"none\"/>\n",
              "    <path d=\"M18.56 5.44l.94 2.06.94-2.06 2.06-.94-2.06-.94-.94-2.06-.94 2.06-2.06.94zm-11 1L8.5 8.5l.94-2.06 2.06-.94-2.06-.94L8.5 2.5l-.94 2.06-2.06.94zm10 10l.94 2.06.94-2.06 2.06-.94-2.06-.94-.94-2.06-.94 2.06-2.06.94z\"/><path d=\"M17.41 7.96l-1.37-1.37c-.4-.4-.92-.59-1.43-.59-.52 0-1.04.2-1.43.59L10.3 9.45l-7.72 7.72c-.78.78-.78 2.05 0 2.83L4 21.41c.39.39.9.59 1.41.59.51 0 1.02-.2 1.41-.59l7.78-7.78 2.81-2.81c.8-.78.8-2.07 0-2.86zM5.41 20L4 18.59l7.72-7.72 1.47 1.35L5.41 20z\"/>\n",
              "  </svg>\n",
              "      </button>\n",
              "      \n",
              "  <style>\n",
              "    .colab-df-container {\n",
              "      display:flex;\n",
              "      flex-wrap:wrap;\n",
              "      gap: 12px;\n",
              "    }\n",
              "\n",
              "    .colab-df-convert {\n",
              "      background-color: #E8F0FE;\n",
              "      border: none;\n",
              "      border-radius: 50%;\n",
              "      cursor: pointer;\n",
              "      display: none;\n",
              "      fill: #1967D2;\n",
              "      height: 32px;\n",
              "      padding: 0 0 0 0;\n",
              "      width: 32px;\n",
              "    }\n",
              "\n",
              "    .colab-df-convert:hover {\n",
              "      background-color: #E2EBFA;\n",
              "      box-shadow: 0px 1px 2px rgba(60, 64, 67, 0.3), 0px 1px 3px 1px rgba(60, 64, 67, 0.15);\n",
              "      fill: #174EA6;\n",
              "    }\n",
              "\n",
              "    [theme=dark] .colab-df-convert {\n",
              "      background-color: #3B4455;\n",
              "      fill: #D2E3FC;\n",
              "    }\n",
              "\n",
              "    [theme=dark] .colab-df-convert:hover {\n",
              "      background-color: #434B5C;\n",
              "      box-shadow: 0px 1px 3px 1px rgba(0, 0, 0, 0.15);\n",
              "      filter: drop-shadow(0px 1px 2px rgba(0, 0, 0, 0.3));\n",
              "      fill: #FFFFFF;\n",
              "    }\n",
              "  </style>\n",
              "\n",
              "      <script>\n",
              "        const buttonEl =\n",
              "          document.querySelector('#df-8dc2efbd-304e-4409-9587-70f4b14e68fc button.colab-df-convert');\n",
              "        buttonEl.style.display =\n",
              "          google.colab.kernel.accessAllowed ? 'block' : 'none';\n",
              "\n",
              "        async function convertToInteractive(key) {\n",
              "          const element = document.querySelector('#df-8dc2efbd-304e-4409-9587-70f4b14e68fc');\n",
              "          const dataTable =\n",
              "            await google.colab.kernel.invokeFunction('convertToInteractive',\n",
              "                                                     [key], {});\n",
              "          if (!dataTable) return;\n",
              "\n",
              "          const docLinkHtml = 'Like what you see? Visit the ' +\n",
              "            '<a target=\"_blank\" href=https://colab.research.google.com/notebooks/data_table.ipynb>data table notebook</a>'\n",
              "            + ' to learn more about interactive tables.';\n",
              "          element.innerHTML = '';\n",
              "          dataTable['output_type'] = 'display_data';\n",
              "          await google.colab.output.renderOutput(dataTable, element);\n",
              "          const docLink = document.createElement('div');\n",
              "          docLink.innerHTML = docLinkHtml;\n",
              "          element.appendChild(docLink);\n",
              "        }\n",
              "      </script>\n",
              "    </div>\n",
              "  </div>\n",
              "  "
            ]
          },
          "metadata": {},
          "execution_count": 11
        }
      ],
      "source": [
        "df.head()"
      ]
    },
    {
      "cell_type": "markdown",
      "metadata": {
        "id": "cyf_JjVerYmZ"
      },
      "source": [
        "Data Preprocessing "
      ]
    },
    {
      "cell_type": "code",
      "execution_count": null,
      "metadata": {
        "id": "t-FXJXv0z6oA"
      },
      "outputs": [],
      "source": [
        "import pandas as pd\n",
        "import numpy as np\n",
        "from bs4 import BeautifulSoup\n",
        "import re\n",
        "from nltk.tokenize import WordPunctTokenizer"
      ]
    },
    {
      "cell_type": "code",
      "execution_count": null,
      "metadata": {
        "id": "2yPmagapPZqH"
      },
      "outputs": [],
      "source": [
        "emojis = {':)': 'smile', ':-)': 'smile', ';d': 'wink', ':-E': 'vampire', ':(': 'sad', \n",
        "          ':-(': 'sad', ':-<': 'sad', ':P': 'raspberry', ':O': 'surprised',\n",
        "          ':-@': 'shocked', ':@': 'shocked',':-$': 'confused', ':\\\\': 'annoyed', \n",
        "          ':#': 'mute', ':X': 'mute', ':^)': 'smile', ':-&': 'confused', '$_$': 'greedy',\n",
        "          '@@': 'eyeroll', ':-!': 'confused', ':-D': 'smile', ':-0': 'yell', 'O.o': 'confused',\n",
        "          '<(-_-)>': 'robot', 'd[-_-]b': 'dj', \":'-)\": 'sadsmile', ';)': 'wink', \n",
        "          ';-)': 'wink', 'O:-)': 'angel','O*-)': 'angel','(:-D': 'gossip', '=^.^=': 'cat'}\n",
        "\n",
        "stopwordlist = ['a', 'about', 'above', 'after', 'again', 'ain', 'all', 'am', 'an',\n",
        "             'and','any','are', 'as', 'at', 'be', 'because', 'been', 'before',\n",
        "             'being', 'below', 'between','both', 'by', 'can', 'd', 'did', 'do',\n",
        "             'does', 'doing', 'down', 'during', 'each','few', 'for', 'from', \n",
        "             'further', 'had', 'has', 'have', 'having', 'he', 'her', 'here',\n",
        "             'hers', 'herself', 'him', 'himself', 'his', 'how', 'i', 'if', 'in',\n",
        "             'into','is', 'it', 'its', 'itself', 'just', 'll', 'm', 'ma','me', 'more', 'most','my', 'myself', 'now', 'o', 'of', 'on', 'once',\n",
        "             'only', 'or', 'other', 'our', 'ours','ourselves', 'out', 'own', 're',\n",
        "             's', 'same', 'she', \"shes\", 'should', \"shouldve\",'so', 'some', 'such',\n",
        "             't', 'than', 'that', \"thatll\", 'the', 'their', 'theirs', 'them',\n",
        "             'themselves', 'then', 'there', 'these', 'they', 'this', 'those', \n",
        "             'through', 'to', 'too','under', 'until', 'up', 've', 'very', 'was',\n",
        "             'we', 'were', 'what', 'when', 'where','which','while', 'who', 'whom',\n",
        "             'why', 'will', 'with', 'won', 'y', 'you', \"youd\",\"youll\", \"youre\",\n",
        "             \"youve\", 'your', 'yours', 'yourself', 'yourselves'] \n",
        "\n",
        "def preprocess(textdata , wordLemm):\n",
        "    processedText = []\n",
        "  \n",
        "    urlPattern        = r\"((http://)[^ ]*|(https://)[^ ]*|( www\\.)[^ ]*)\"\n",
        "    userPattern       = '@[^\\s]+'\n",
        "    alphaPattern      = \"[^a-zA-Z0-9]\"\n",
        "    sequencePattern   = r\"(.)\\1\\1+\"\n",
        "    seqReplacePattern = r\"\\1\\1\"\n",
        "    \n",
        "    for tweet in textdata:\n",
        "        tweet = tweet.lower()\n",
        "        tweet = re.sub(urlPattern,' URL',tweet)\n",
        "        for emoji in emojis.keys():\n",
        "           tweet = tweet.replace(emoji, \"EMOJI\" + emojis[emoji])        \n",
        "        tweet = re.sub(userPattern,' USER', tweet)        \n",
        "        tweet = re.sub(alphaPattern, \" \", tweet)\n",
        "        tweet = re.sub(sequencePattern, seqReplacePattern, tweet)\n",
        "        #STOPWORDS = set(stopwordlist)\n",
        "        #tweet = \" \" .join([word for word in str(tweet).split() if word not in STOPWORDS])\n",
        "        \n",
        "        tweetwords = ''\n",
        "        for word in tweet.split():\n",
        "            if len(word)>1:\n",
        "                # Lemmatizing the word.\n",
        "                word = wordLemm.lemmatize(word)\n",
        "                tweetwords += (word+' ')\n",
        "            \n",
        "        processedText.append(tweetwords)\n",
        "        \n",
        "    return processedText"
      ]
    },
    {
      "cell_type": "code",
      "execution_count": null,
      "metadata": {
        "colab": {
          "base_uri": "https://localhost:8080/"
        },
        "id": "1M8S4YaNPyNJ",
        "outputId": "bd801dc6-adc9-4937-de2f-f65effadcd77"
      },
      "outputs": [
        {
          "output_type": "stream",
          "name": "stdout",
          "text": [
            "[nltk_data] Downloading package wordnet to /root/nltk_data...\n",
            "[nltk_data]   Unzipping corpora/wordnet.zip.\n"
          ]
        }
      ],
      "source": [
        "import nltk\n",
        "nltk.download('wordnet')\n",
        "from nltk.stem import WordNetLemmatizer\n",
        "wordLemm = WordNetLemmatizer()\n",
        "df.tweet  = preprocess(df.tweet , wordLemm)"
      ]
    },
    {
      "cell_type": "code",
      "execution_count": null,
      "metadata": {
        "colab": {
          "base_uri": "https://localhost:8080/"
        },
        "id": "doyyLrRDQShf",
        "outputId": "3d31d168-5d3f-4c83-dc45-dc1c9da55e7b"
      },
      "outputs": [
        {
          "output_type": "execute_result",
          "data": {
            "text/plain": [
              "0        USER URL aww that bummer you shoulda got david...\n",
              "1                                     border closed at 10 \n",
              "2        kind of longs for the bus that show up at the ...\n",
              "3                                                    USER \n",
              "4        ugh horrible ending to the sandra kantu story ...\n",
              "                               ...                        \n",
              "9996                       new jonas brother cd out today \n",
              "9997     just got my invoice from USER 9925 ouch still ...\n",
              "9998     USER yes there is no man like my daddy if they...\n",
              "9999                     USER glad you re digging it dude \n",
              "10000                                    checking my mail \n",
              "Name: tweet, Length: 10001, dtype: object"
            ]
          },
          "metadata": {},
          "execution_count": 15
        }
      ],
      "source": [
        "df.tweet "
      ]
    },
    {
      "cell_type": "code",
      "execution_count": null,
      "metadata": {
        "id": "xqg4U_b5Uhyz"
      },
      "outputs": [],
      "source": [
        "\n",
        "# sklearn\n",
        "from sklearn.naive_bayes import ComplementNB\n",
        "from sklearn.linear_model import LogisticRegression\n",
        "from sklearn.model_selection import train_test_split \n",
        "from sklearn.feature_extraction.text import CountVectorizer\n",
        "from sklearn.model_selection import GridSearchCV\n",
        "from sklearn.linear_model import SGDClassifier\n",
        "from sklearn.pipeline import Pipeline\n",
        "from sklearn.metrics import confusion_matrix, classification_report, roc_curve, accuracy_score\n",
        "from sklearn import svm\n",
        "from sklearn.naive_bayes import BernoulliNB\n",
        "import matplotlib.pyplot as plt\n",
        "from sklearn.metrics import roc_curve\n",
        "import numpy as np\n",
        "from sklearn.ensemble import RandomForestRegressor\n",
        "from sklearn.ensemble import RandomForestClassifier\n"
      ]
    },
    {
      "cell_type": "code",
      "execution_count": null,
      "metadata": {
        "id": "PImYsnnG344p"
      },
      "outputs": [],
      "source": [
        "# converting the 4 in target column to 1 to denote the value 'positive'\n",
        "df.target = df.target.apply(lambda x: 1 if x==4 else x)"
      ]
    },
    {
      "cell_type": "code",
      "execution_count": null,
      "metadata": {
        "id": "vU2Y3qswT0gs"
      },
      "outputs": [],
      "source": [
        "X = df.tweet\n",
        "y = df.target"
      ]
    },
    {
      "cell_type": "code",
      "execution_count": null,
      "metadata": {
        "colab": {
          "base_uri": "https://localhost:8080/"
        },
        "id": "vyOR5inepn25",
        "outputId": "c1c110be-aae6-494d-e8e1-78ed52756b55"
      },
      "outputs": [
        {
          "output_type": "execute_result",
          "data": {
            "text/plain": [
              "0        USER URL aww that bummer you shoulda got david...\n",
              "1                                     border closed at 10 \n",
              "2        kind of longs for the bus that show up at the ...\n",
              "3                                                    USER \n",
              "4        ugh horrible ending to the sandra kantu story ...\n",
              "                               ...                        \n",
              "9996                       new jonas brother cd out today \n",
              "9997     just got my invoice from USER 9925 ouch still ...\n",
              "9998     USER yes there is no man like my daddy if they...\n",
              "9999                     USER glad you re digging it dude \n",
              "10000                                    checking my mail \n",
              "Name: tweet, Length: 10001, dtype: object"
            ]
          },
          "metadata": {},
          "execution_count": 19
        }
      ],
      "source": [
        "X"
      ]
    },
    {
      "cell_type": "code",
      "execution_count": null,
      "metadata": {
        "id": "F8w3Rb6hT1Xx"
      },
      "outputs": [],
      "source": [
        "X_train, X_test, y_train, y_test = train_test_split(X, y,  train_size = 0.8 , test_size = 0.2 ,random_state=42)\n",
        "# Used 80% data for training and 20% data for testing"
      ]
    },
    {
      "cell_type": "code",
      "source": [
        "X_testtbl = X_test"
      ],
      "metadata": {
        "id": "1Omh28f_ez_S"
      },
      "execution_count": null,
      "outputs": []
    },
    {
      "cell_type": "code",
      "source": [
        "X_train"
      ],
      "metadata": {
        "colab": {
          "base_uri": "https://localhost:8080/"
        },
        "id": "DWK7qkVGpEVG",
        "outputId": "1ed92379-e395-40ad-bc92-952d4c2f0905"
      },
      "execution_count": null,
      "outputs": [
        {
          "output_type": "execute_result",
          "data": {
            "text/plain": [
              "1561    omg trying to find where can watch the mtv awa...\n",
              "1670                                 USER didn have time \n",
              "6087    USER have fun thomas and love the addison shir...\n",
              "6669                       USER you re so optimistic lol \n",
              "5933    USER yayayyayayayayaayy lt oi lt it when you s...\n",
              "                              ...                        \n",
              "5734    my bet on mumbai indian today anyone to take b...\n",
              "5191                                     is in bed again \n",
              "5390    bridge house last night wa amazing thanks to e...\n",
              "860     is trying to decide where the hell to put roby...\n",
              "7270    off to work need to make 500 today doable am n...\n",
              "Name: tweet, Length: 8000, dtype: object"
            ]
          },
          "metadata": {},
          "execution_count": 104
        }
      ]
    },
    {
      "cell_type": "code",
      "execution_count": null,
      "metadata": {
        "colab": {
          "base_uri": "https://localhost:8080/"
        },
        "id": "MwTcXbw7E-k7",
        "outputId": "04981581-e7e0-4331-b459-26a935079bfa"
      },
      "outputs": [
        {
          "output_type": "stream",
          "name": "stdout",
          "text": [
            "No. of feature_words:  10000\n"
          ]
        },
        {
          "output_type": "stream",
          "name": "stderr",
          "text": [
            "/usr/local/lib/python3.7/dist-packages/sklearn/utils/deprecation.py:87: FutureWarning: Function get_feature_names is deprecated; get_feature_names is deprecated in 1.0 and will be removed in 1.2. Please use get_feature_names_out instead.\n",
            "  warnings.warn(msg, category=FutureWarning)\n"
          ]
        }
      ],
      "source": [
        "#CountVectorizer convert a collection of text documents to a vector of term/token counts\n",
        "vectoriser = CountVectorizer(ngram_range=(1,3),max_df=0.95, min_df=2,max_features=10000)\n",
        "count_vectoriser= vectoriser.fit_transform(X_train)\n",
        "#count_vectoriser= vectoriser.fit_transform(X_train).toarray()\n",
        "print('No. of feature_words: ', len(vectoriser.get_feature_names()))\n"
      ]
    },
    {
      "cell_type": "code",
      "execution_count": null,
      "metadata": {
        "id": "fXF-NDjUT5tL"
      },
      "outputs": [],
      "source": [
        "X_train = vectoriser.transform(X_train)\n",
        "X_test  = vectoriser.transform(X_test)\n"
      ]
    },
    {
      "cell_type": "code",
      "execution_count": null,
      "metadata": {
        "id": "72N1AzEH-zqh",
        "colab": {
          "base_uri": "https://localhost:8080/",
          "height": 418
        },
        "outputId": "32f04e85-6233-493a-d983-c9cb38392068"
      },
      "outputs": [
        {
          "output_type": "stream",
          "name": "stderr",
          "text": [
            "/usr/local/lib/python3.7/dist-packages/sklearn/utils/deprecation.py:87: FutureWarning: Function get_feature_names is deprecated; get_feature_names is deprecated in 1.0 and will be removed in 1.2. Please use get_feature_names_out instead.\n",
            "  warnings.warn(msg, category=FutureWarning)\n"
          ]
        },
        {
          "output_type": "execute_result",
          "data": {
            "text/plain": [
              "                                                    00  013th  03  04  0430  \\\n",
              "tweet                                                                         \n",
              "omg trying to find where can watch the mtv awar...   0      0   0   0     0   \n",
              "USER didn have time                                  0      0   0   0     0   \n",
              "USER have fun thomas and love the addison shirt...   0      0   0   0     0   \n",
              "USER you re so optimistic lol                        0      0   0   0     0   \n",
              "USER yayayyayayayayaayy lt oi lt it when you sa...   0      0   0   0     0   \n",
              "\n",
              "                                                    0433963407  05am  06  09  \\\n",
              "tweet                                                                          \n",
              "omg trying to find where can watch the mtv awar...           0     0   0   0   \n",
              "USER didn have time                                          0     0   0   0   \n",
              "USER have fun thomas and love the addison shirt...           0     0   0   0   \n",
              "USER you re so optimistic lol                                0     0   0   0   \n",
              "USER yayayyayayayayaayy lt oi lt it when you sa...           0     0   0   0   \n",
              "\n",
              "                                                    0f  ...  zippo  zippy  \\\n",
              "tweet                                                   ...                 \n",
              "omg trying to find where can watch the mtv awar...   0  ...      0      0   \n",
              "USER didn have time                                  0  ...      0      0   \n",
              "USER have fun thomas and love the addison shirt...   0  ...      0      0   \n",
              "USER you re so optimistic lol                        0  ...      0      0   \n",
              "USER yayayyayayayayaayy lt oi lt it when you sa...   0  ...      0      0   \n",
              "\n",
              "                                                    zis  zombie  zone  \\\n",
              "tweet                                                                   \n",
              "omg trying to find where can watch the mtv awar...    0       0     0   \n",
              "USER didn have time                                   0       0     0   \n",
              "USER have fun thomas and love the addison shirt...    0       0     0   \n",
              "USER you re so optimistic lol                         0       0     0   \n",
              "USER yayayyayayayayaayy lt oi lt it when you sa...    0       0     0   \n",
              "\n",
              "                                                    zonealarm  zoo  zoya  \\\n",
              "tweet                                                                      \n",
              "omg trying to find where can watch the mtv awar...          0    0     0   \n",
              "USER didn have time                                         0    0     0   \n",
              "USER have fun thomas and love the addison shirt...          0    0     0   \n",
              "USER you re so optimistic lol                               0    0     0   \n",
              "USER yayayyayayayayaayy lt oi lt it when you sa...          0    0     0   \n",
              "\n",
              "                                                    ztecwiz  zz  \n",
              "tweet                                                            \n",
              "omg trying to find where can watch the mtv awar...        0   0  \n",
              "USER didn have time                                       0   0  \n",
              "USER have fun thomas and love the addison shirt...        0   0  \n",
              "USER you re so optimistic lol                             0   0  \n",
              "USER yayayyayayayayaayy lt oi lt it when you sa...        0   0  \n",
              "\n",
              "[5 rows x 10683 columns]"
            ],
            "text/html": [
              "\n",
              "  <div id=\"df-824ff306-6059-480a-9055-58835c45b6a5\">\n",
              "    <div class=\"colab-df-container\">\n",
              "      <div>\n",
              "<style scoped>\n",
              "    .dataframe tbody tr th:only-of-type {\n",
              "        vertical-align: middle;\n",
              "    }\n",
              "\n",
              "    .dataframe tbody tr th {\n",
              "        vertical-align: top;\n",
              "    }\n",
              "\n",
              "    .dataframe thead th {\n",
              "        text-align: right;\n",
              "    }\n",
              "</style>\n",
              "<table border=\"1\" class=\"dataframe\">\n",
              "  <thead>\n",
              "    <tr style=\"text-align: right;\">\n",
              "      <th></th>\n",
              "      <th>00</th>\n",
              "      <th>013th</th>\n",
              "      <th>03</th>\n",
              "      <th>04</th>\n",
              "      <th>0430</th>\n",
              "      <th>0433963407</th>\n",
              "      <th>05am</th>\n",
              "      <th>06</th>\n",
              "      <th>09</th>\n",
              "      <th>0f</th>\n",
              "      <th>...</th>\n",
              "      <th>zippo</th>\n",
              "      <th>zippy</th>\n",
              "      <th>zis</th>\n",
              "      <th>zombie</th>\n",
              "      <th>zone</th>\n",
              "      <th>zonealarm</th>\n",
              "      <th>zoo</th>\n",
              "      <th>zoya</th>\n",
              "      <th>ztecwiz</th>\n",
              "      <th>zz</th>\n",
              "    </tr>\n",
              "    <tr>\n",
              "      <th>tweet</th>\n",
              "      <th></th>\n",
              "      <th></th>\n",
              "      <th></th>\n",
              "      <th></th>\n",
              "      <th></th>\n",
              "      <th></th>\n",
              "      <th></th>\n",
              "      <th></th>\n",
              "      <th></th>\n",
              "      <th></th>\n",
              "      <th></th>\n",
              "      <th></th>\n",
              "      <th></th>\n",
              "      <th></th>\n",
              "      <th></th>\n",
              "      <th></th>\n",
              "      <th></th>\n",
              "      <th></th>\n",
              "      <th></th>\n",
              "      <th></th>\n",
              "      <th></th>\n",
              "    </tr>\n",
              "  </thead>\n",
              "  <tbody>\n",
              "    <tr>\n",
              "      <th>omg trying to find where can watch the mtv award online but can find it anywhere</th>\n",
              "      <td>0</td>\n",
              "      <td>0</td>\n",
              "      <td>0</td>\n",
              "      <td>0</td>\n",
              "      <td>0</td>\n",
              "      <td>0</td>\n",
              "      <td>0</td>\n",
              "      <td>0</td>\n",
              "      <td>0</td>\n",
              "      <td>0</td>\n",
              "      <td>...</td>\n",
              "      <td>0</td>\n",
              "      <td>0</td>\n",
              "      <td>0</td>\n",
              "      <td>0</td>\n",
              "      <td>0</td>\n",
              "      <td>0</td>\n",
              "      <td>0</td>\n",
              "      <td>0</td>\n",
              "      <td>0</td>\n",
              "      <td>0</td>\n",
              "    </tr>\n",
              "    <tr>\n",
              "      <th>USER didn have time</th>\n",
              "      <td>0</td>\n",
              "      <td>0</td>\n",
              "      <td>0</td>\n",
              "      <td>0</td>\n",
              "      <td>0</td>\n",
              "      <td>0</td>\n",
              "      <td>0</td>\n",
              "      <td>0</td>\n",
              "      <td>0</td>\n",
              "      <td>0</td>\n",
              "      <td>...</td>\n",
              "      <td>0</td>\n",
              "      <td>0</td>\n",
              "      <td>0</td>\n",
              "      <td>0</td>\n",
              "      <td>0</td>\n",
              "      <td>0</td>\n",
              "      <td>0</td>\n",
              "      <td>0</td>\n",
              "      <td>0</td>\n",
              "      <td>0</td>\n",
              "    </tr>\n",
              "    <tr>\n",
              "      <th>USER have fun thomas and love the addison shirt by the way</th>\n",
              "      <td>0</td>\n",
              "      <td>0</td>\n",
              "      <td>0</td>\n",
              "      <td>0</td>\n",
              "      <td>0</td>\n",
              "      <td>0</td>\n",
              "      <td>0</td>\n",
              "      <td>0</td>\n",
              "      <td>0</td>\n",
              "      <td>0</td>\n",
              "      <td>...</td>\n",
              "      <td>0</td>\n",
              "      <td>0</td>\n",
              "      <td>0</td>\n",
              "      <td>0</td>\n",
              "      <td>0</td>\n",
              "      <td>0</td>\n",
              "      <td>0</td>\n",
              "      <td>0</td>\n",
              "      <td>0</td>\n",
              "      <td>0</td>\n",
              "    </tr>\n",
              "    <tr>\n",
              "      <th>USER you re so optimistic lol</th>\n",
              "      <td>0</td>\n",
              "      <td>0</td>\n",
              "      <td>0</td>\n",
              "      <td>0</td>\n",
              "      <td>0</td>\n",
              "      <td>0</td>\n",
              "      <td>0</td>\n",
              "      <td>0</td>\n",
              "      <td>0</td>\n",
              "      <td>0</td>\n",
              "      <td>...</td>\n",
              "      <td>0</td>\n",
              "      <td>0</td>\n",
              "      <td>0</td>\n",
              "      <td>0</td>\n",
              "      <td>0</td>\n",
              "      <td>0</td>\n",
              "      <td>0</td>\n",
              "      <td>0</td>\n",
              "      <td>0</td>\n",
              "      <td>0</td>\n",
              "    </tr>\n",
              "    <tr>\n",
              "      <th>USER yayayyayayayayaayy lt oi lt it when you say that tehe gt lt msnn</th>\n",
              "      <td>0</td>\n",
              "      <td>0</td>\n",
              "      <td>0</td>\n",
              "      <td>0</td>\n",
              "      <td>0</td>\n",
              "      <td>0</td>\n",
              "      <td>0</td>\n",
              "      <td>0</td>\n",
              "      <td>0</td>\n",
              "      <td>0</td>\n",
              "      <td>...</td>\n",
              "      <td>0</td>\n",
              "      <td>0</td>\n",
              "      <td>0</td>\n",
              "      <td>0</td>\n",
              "      <td>0</td>\n",
              "      <td>0</td>\n",
              "      <td>0</td>\n",
              "      <td>0</td>\n",
              "      <td>0</td>\n",
              "      <td>0</td>\n",
              "    </tr>\n",
              "  </tbody>\n",
              "</table>\n",
              "<p>5 rows × 10683 columns</p>\n",
              "</div>\n",
              "      <button class=\"colab-df-convert\" onclick=\"convertToInteractive('df-824ff306-6059-480a-9055-58835c45b6a5')\"\n",
              "              title=\"Convert this dataframe to an interactive table.\"\n",
              "              style=\"display:none;\">\n",
              "        \n",
              "  <svg xmlns=\"http://www.w3.org/2000/svg\" height=\"24px\"viewBox=\"0 0 24 24\"\n",
              "       width=\"24px\">\n",
              "    <path d=\"M0 0h24v24H0V0z\" fill=\"none\"/>\n",
              "    <path d=\"M18.56 5.44l.94 2.06.94-2.06 2.06-.94-2.06-.94-.94-2.06-.94 2.06-2.06.94zm-11 1L8.5 8.5l.94-2.06 2.06-.94-2.06-.94L8.5 2.5l-.94 2.06-2.06.94zm10 10l.94 2.06.94-2.06 2.06-.94-2.06-.94-.94-2.06-.94 2.06-2.06.94z\"/><path d=\"M17.41 7.96l-1.37-1.37c-.4-.4-.92-.59-1.43-.59-.52 0-1.04.2-1.43.59L10.3 9.45l-7.72 7.72c-.78.78-.78 2.05 0 2.83L4 21.41c.39.39.9.59 1.41.59.51 0 1.02-.2 1.41-.59l7.78-7.78 2.81-2.81c.8-.78.8-2.07 0-2.86zM5.41 20L4 18.59l7.72-7.72 1.47 1.35L5.41 20z\"/>\n",
              "  </svg>\n",
              "      </button>\n",
              "      \n",
              "  <style>\n",
              "    .colab-df-container {\n",
              "      display:flex;\n",
              "      flex-wrap:wrap;\n",
              "      gap: 12px;\n",
              "    }\n",
              "\n",
              "    .colab-df-convert {\n",
              "      background-color: #E8F0FE;\n",
              "      border: none;\n",
              "      border-radius: 50%;\n",
              "      cursor: pointer;\n",
              "      display: none;\n",
              "      fill: #1967D2;\n",
              "      height: 32px;\n",
              "      padding: 0 0 0 0;\n",
              "      width: 32px;\n",
              "    }\n",
              "\n",
              "    .colab-df-convert:hover {\n",
              "      background-color: #E2EBFA;\n",
              "      box-shadow: 0px 1px 2px rgba(60, 64, 67, 0.3), 0px 1px 3px 1px rgba(60, 64, 67, 0.15);\n",
              "      fill: #174EA6;\n",
              "    }\n",
              "\n",
              "    [theme=dark] .colab-df-convert {\n",
              "      background-color: #3B4455;\n",
              "      fill: #D2E3FC;\n",
              "    }\n",
              "\n",
              "    [theme=dark] .colab-df-convert:hover {\n",
              "      background-color: #434B5C;\n",
              "      box-shadow: 0px 1px 3px 1px rgba(0, 0, 0, 0.15);\n",
              "      filter: drop-shadow(0px 1px 2px rgba(0, 0, 0, 0.3));\n",
              "      fill: #FFFFFF;\n",
              "    }\n",
              "  </style>\n",
              "\n",
              "      <script>\n",
              "        const buttonEl =\n",
              "          document.querySelector('#df-824ff306-6059-480a-9055-58835c45b6a5 button.colab-df-convert');\n",
              "        buttonEl.style.display =\n",
              "          google.colab.kernel.accessAllowed ? 'block' : 'none';\n",
              "\n",
              "        async function convertToInteractive(key) {\n",
              "          const element = document.querySelector('#df-824ff306-6059-480a-9055-58835c45b6a5');\n",
              "          const dataTable =\n",
              "            await google.colab.kernel.invokeFunction('convertToInteractive',\n",
              "                                                     [key], {});\n",
              "          if (!dataTable) return;\n",
              "\n",
              "          const docLinkHtml = 'Like what you see? Visit the ' +\n",
              "            '<a target=\"_blank\" href=https://colab.research.google.com/notebooks/data_table.ipynb>data table notebook</a>'\n",
              "            + ' to learn more about interactive tables.';\n",
              "          element.innerHTML = '';\n",
              "          dataTable['output_type'] = 'display_data';\n",
              "          await google.colab.output.renderOutput(dataTable, element);\n",
              "          const docLink = document.createElement('div');\n",
              "          docLink.innerHTML = docLinkHtml;\n",
              "          element.appendChild(docLink);\n",
              "        }\n",
              "      </script>\n",
              "    </div>\n",
              "  </div>\n",
              "  "
            ]
          },
          "metadata": {},
          "execution_count": 65
        }
      ],
      "source": [
        "vectorizer = CountVectorizer()\n",
        "\n",
        "# Use the content column instead of our single text variable\n",
        "matrix = vectorizer.fit_transform(X_train)\n",
        "vectorizer.transform(X_train)\n",
        "counts = pd.DataFrame(matrix.toarray(),\n",
        "                  index=X_train,\n",
        "                  columns=vectorizer.get_feature_names())\n",
        "\n",
        "counts.head()"
      ]
    },
    {
      "cell_type": "code",
      "execution_count": null,
      "metadata": {
        "colab": {
          "base_uri": "https://localhost:8080/",
          "height": 516
        },
        "id": "RMTkkrtKBGwD",
        "outputId": "241f4500-4de4-4b39-de12-f5a0af473345"
      },
      "outputs": [
        {
          "output_type": "execute_result",
          "data": {
            "text/plain": [
              "                                                    the  metro  is  just  \\\n",
              "tweet                                                                      \n",
              "omg trying to find where can watch the mtv awar...    1      0   0     0   \n",
              "USER didn have time                                   0      0   0     0   \n",
              "USER have fun thomas and love the addison shirt...    2      0   0     0   \n",
              "USER you re so optimistic lol                         0      0   0     0   \n",
              "USER yayayyayayayayaayy lt oi lt it when you sa...    0      0   0     0   \n",
              "...                                                 ...    ...  ..   ...   \n",
              "my bet on mumbai indian today anyone to take be...    0      0   0     0   \n",
              "is in bed again                                       0      0   1     0   \n",
              "bridge house last night wa amazing thanks to ev...    1      0   0     0   \n",
              "is trying to decide where the hell to put robyn...    1      0   1     0   \n",
              "off to work need to make 500 today doable am no...    0      0   0     0   \n",
              "\n",
              "                                                    terrible  there  are  \\\n",
              "tweet                                                                      \n",
              "omg trying to find where can watch the mtv awar...         0      0    0   \n",
              "USER didn have time                                        0      0    0   \n",
              "USER have fun thomas and love the addison shirt...         0      0    0   \n",
              "USER you re so optimistic lol                              0      0    0   \n",
              "USER yayayyayayayayaayy lt oi lt it when you sa...         0      0    0   \n",
              "...                                                      ...    ...  ...   \n",
              "my bet on mumbai indian today anyone to take be...         0      0    0   \n",
              "is in bed again                                            0      0    0   \n",
              "bridge house last night wa amazing thanks to ev...         0      1    0   \n",
              "is trying to decide where the hell to put robyn...         0      0    0   \n",
              "off to work need to make 500 today doable am no...         0      0    0   \n",
              "\n",
              "                                                    fast  jet  passing  over  \\\n",
              "tweet                                                                          \n",
              "omg trying to find where can watch the mtv awar...     0    0        0     0   \n",
              "USER didn have time                                    0    0        0     0   \n",
              "USER have fun thomas and love the addison shirt...     0    0        0     0   \n",
              "USER you re so optimistic lol                          0    0        0     0   \n",
              "USER yayayyayayayayaayy lt oi lt it when you sa...     0    0        0     0   \n",
              "...                                                  ...  ...      ...   ...   \n",
              "my bet on mumbai indian today anyone to take be...     0    0        0     0   \n",
              "is in bed again                                        0    0        0     0   \n",
              "bridge house last night wa amazing thanks to ev...     0    0        0     0   \n",
              "is trying to decide where the hell to put robyn...     0    0        0     0   \n",
              "off to work need to make 500 today doable am no...     0    0        0     0   \n",
              "\n",
              "                                                    my  \n",
              "tweet                                                   \n",
              "omg trying to find where can watch the mtv awar...   0  \n",
              "USER didn have time                                  0  \n",
              "USER have fun thomas and love the addison shirt...   0  \n",
              "USER you re so optimistic lol                        0  \n",
              "USER yayayyayayayayaayy lt oi lt it when you sa...   0  \n",
              "...                                                 ..  \n",
              "my bet on mumbai indian today anyone to take be...   1  \n",
              "is in bed again                                      0  \n",
              "bridge house last night wa amazing thanks to ev...   0  \n",
              "is trying to decide where the hell to put robyn...   0  \n",
              "off to work need to make 500 today doable am no...   0  \n",
              "\n",
              "[8000 rows x 12 columns]"
            ],
            "text/html": [
              "\n",
              "  <div id=\"df-af8d9c1e-d80e-4287-a601-991db4ef4196\">\n",
              "    <div class=\"colab-df-container\">\n",
              "      <div>\n",
              "<style scoped>\n",
              "    .dataframe tbody tr th:only-of-type {\n",
              "        vertical-align: middle;\n",
              "    }\n",
              "\n",
              "    .dataframe tbody tr th {\n",
              "        vertical-align: top;\n",
              "    }\n",
              "\n",
              "    .dataframe thead th {\n",
              "        text-align: right;\n",
              "    }\n",
              "</style>\n",
              "<table border=\"1\" class=\"dataframe\">\n",
              "  <thead>\n",
              "    <tr style=\"text-align: right;\">\n",
              "      <th></th>\n",
              "      <th>the</th>\n",
              "      <th>metro</th>\n",
              "      <th>is</th>\n",
              "      <th>just</th>\n",
              "      <th>terrible</th>\n",
              "      <th>there</th>\n",
              "      <th>are</th>\n",
              "      <th>fast</th>\n",
              "      <th>jet</th>\n",
              "      <th>passing</th>\n",
              "      <th>over</th>\n",
              "      <th>my</th>\n",
              "    </tr>\n",
              "    <tr>\n",
              "      <th>tweet</th>\n",
              "      <th></th>\n",
              "      <th></th>\n",
              "      <th></th>\n",
              "      <th></th>\n",
              "      <th></th>\n",
              "      <th></th>\n",
              "      <th></th>\n",
              "      <th></th>\n",
              "      <th></th>\n",
              "      <th></th>\n",
              "      <th></th>\n",
              "      <th></th>\n",
              "    </tr>\n",
              "  </thead>\n",
              "  <tbody>\n",
              "    <tr>\n",
              "      <th>omg trying to find where can watch the mtv award online but can find it anywhere</th>\n",
              "      <td>1</td>\n",
              "      <td>0</td>\n",
              "      <td>0</td>\n",
              "      <td>0</td>\n",
              "      <td>0</td>\n",
              "      <td>0</td>\n",
              "      <td>0</td>\n",
              "      <td>0</td>\n",
              "      <td>0</td>\n",
              "      <td>0</td>\n",
              "      <td>0</td>\n",
              "      <td>0</td>\n",
              "    </tr>\n",
              "    <tr>\n",
              "      <th>USER didn have time</th>\n",
              "      <td>0</td>\n",
              "      <td>0</td>\n",
              "      <td>0</td>\n",
              "      <td>0</td>\n",
              "      <td>0</td>\n",
              "      <td>0</td>\n",
              "      <td>0</td>\n",
              "      <td>0</td>\n",
              "      <td>0</td>\n",
              "      <td>0</td>\n",
              "      <td>0</td>\n",
              "      <td>0</td>\n",
              "    </tr>\n",
              "    <tr>\n",
              "      <th>USER have fun thomas and love the addison shirt by the way</th>\n",
              "      <td>2</td>\n",
              "      <td>0</td>\n",
              "      <td>0</td>\n",
              "      <td>0</td>\n",
              "      <td>0</td>\n",
              "      <td>0</td>\n",
              "      <td>0</td>\n",
              "      <td>0</td>\n",
              "      <td>0</td>\n",
              "      <td>0</td>\n",
              "      <td>0</td>\n",
              "      <td>0</td>\n",
              "    </tr>\n",
              "    <tr>\n",
              "      <th>USER you re so optimistic lol</th>\n",
              "      <td>0</td>\n",
              "      <td>0</td>\n",
              "      <td>0</td>\n",
              "      <td>0</td>\n",
              "      <td>0</td>\n",
              "      <td>0</td>\n",
              "      <td>0</td>\n",
              "      <td>0</td>\n",
              "      <td>0</td>\n",
              "      <td>0</td>\n",
              "      <td>0</td>\n",
              "      <td>0</td>\n",
              "    </tr>\n",
              "    <tr>\n",
              "      <th>USER yayayyayayayayaayy lt oi lt it when you say that tehe gt lt msnn</th>\n",
              "      <td>0</td>\n",
              "      <td>0</td>\n",
              "      <td>0</td>\n",
              "      <td>0</td>\n",
              "      <td>0</td>\n",
              "      <td>0</td>\n",
              "      <td>0</td>\n",
              "      <td>0</td>\n",
              "      <td>0</td>\n",
              "      <td>0</td>\n",
              "      <td>0</td>\n",
              "      <td>0</td>\n",
              "    </tr>\n",
              "    <tr>\n",
              "      <th>...</th>\n",
              "      <td>...</td>\n",
              "      <td>...</td>\n",
              "      <td>...</td>\n",
              "      <td>...</td>\n",
              "      <td>...</td>\n",
              "      <td>...</td>\n",
              "      <td>...</td>\n",
              "      <td>...</td>\n",
              "      <td>...</td>\n",
              "      <td>...</td>\n",
              "      <td>...</td>\n",
              "      <td>...</td>\n",
              "    </tr>\n",
              "    <tr>\n",
              "      <th>my bet on mumbai indian today anyone to take bet on this for 500 buck</th>\n",
              "      <td>0</td>\n",
              "      <td>0</td>\n",
              "      <td>0</td>\n",
              "      <td>0</td>\n",
              "      <td>0</td>\n",
              "      <td>0</td>\n",
              "      <td>0</td>\n",
              "      <td>0</td>\n",
              "      <td>0</td>\n",
              "      <td>0</td>\n",
              "      <td>0</td>\n",
              "      <td>1</td>\n",
              "    </tr>\n",
              "    <tr>\n",
              "      <th>is in bed again</th>\n",
              "      <td>0</td>\n",
              "      <td>0</td>\n",
              "      <td>1</td>\n",
              "      <td>0</td>\n",
              "      <td>0</td>\n",
              "      <td>0</td>\n",
              "      <td>0</td>\n",
              "      <td>0</td>\n",
              "      <td>0</td>\n",
              "      <td>0</td>\n",
              "      <td>0</td>\n",
              "      <td>0</td>\n",
              "    </tr>\n",
              "    <tr>\n",
              "      <th>bridge house last night wa amazing thanks to everyone who came were playing the star tonight hope to see you there</th>\n",
              "      <td>1</td>\n",
              "      <td>0</td>\n",
              "      <td>0</td>\n",
              "      <td>0</td>\n",
              "      <td>0</td>\n",
              "      <td>1</td>\n",
              "      <td>0</td>\n",
              "      <td>0</td>\n",
              "      <td>0</td>\n",
              "      <td>0</td>\n",
              "      <td>0</td>\n",
              "      <td>0</td>\n",
              "    </tr>\n",
              "    <tr>\n",
              "      <th>is trying to decide where the hell to put robyns ctf voucher hate money stuff</th>\n",
              "      <td>1</td>\n",
              "      <td>0</td>\n",
              "      <td>1</td>\n",
              "      <td>0</td>\n",
              "      <td>0</td>\n",
              "      <td>0</td>\n",
              "      <td>0</td>\n",
              "      <td>0</td>\n",
              "      <td>0</td>\n",
              "      <td>0</td>\n",
              "      <td>0</td>\n",
              "      <td>0</td>\n",
              "    </tr>\n",
              "    <tr>\n",
              "      <th>off to work need to make 500 today doable am no longer alice am ann romano</th>\n",
              "      <td>0</td>\n",
              "      <td>0</td>\n",
              "      <td>0</td>\n",
              "      <td>0</td>\n",
              "      <td>0</td>\n",
              "      <td>0</td>\n",
              "      <td>0</td>\n",
              "      <td>0</td>\n",
              "      <td>0</td>\n",
              "      <td>0</td>\n",
              "      <td>0</td>\n",
              "      <td>0</td>\n",
              "    </tr>\n",
              "  </tbody>\n",
              "</table>\n",
              "<p>8000 rows × 12 columns</p>\n",
              "</div>\n",
              "      <button class=\"colab-df-convert\" onclick=\"convertToInteractive('df-af8d9c1e-d80e-4287-a601-991db4ef4196')\"\n",
              "              title=\"Convert this dataframe to an interactive table.\"\n",
              "              style=\"display:none;\">\n",
              "        \n",
              "  <svg xmlns=\"http://www.w3.org/2000/svg\" height=\"24px\"viewBox=\"0 0 24 24\"\n",
              "       width=\"24px\">\n",
              "    <path d=\"M0 0h24v24H0V0z\" fill=\"none\"/>\n",
              "    <path d=\"M18.56 5.44l.94 2.06.94-2.06 2.06-.94-2.06-.94-.94-2.06-.94 2.06-2.06.94zm-11 1L8.5 8.5l.94-2.06 2.06-.94-2.06-.94L8.5 2.5l-.94 2.06-2.06.94zm10 10l.94 2.06.94-2.06 2.06-.94-2.06-.94-.94-2.06-.94 2.06-2.06.94z\"/><path d=\"M17.41 7.96l-1.37-1.37c-.4-.4-.92-.59-1.43-.59-.52 0-1.04.2-1.43.59L10.3 9.45l-7.72 7.72c-.78.78-.78 2.05 0 2.83L4 21.41c.39.39.9.59 1.41.59.51 0 1.02-.2 1.41-.59l7.78-7.78 2.81-2.81c.8-.78.8-2.07 0-2.86zM5.41 20L4 18.59l7.72-7.72 1.47 1.35L5.41 20z\"/>\n",
              "  </svg>\n",
              "      </button>\n",
              "      \n",
              "  <style>\n",
              "    .colab-df-container {\n",
              "      display:flex;\n",
              "      flex-wrap:wrap;\n",
              "      gap: 12px;\n",
              "    }\n",
              "\n",
              "    .colab-df-convert {\n",
              "      background-color: #E8F0FE;\n",
              "      border: none;\n",
              "      border-radius: 50%;\n",
              "      cursor: pointer;\n",
              "      display: none;\n",
              "      fill: #1967D2;\n",
              "      height: 32px;\n",
              "      padding: 0 0 0 0;\n",
              "      width: 32px;\n",
              "    }\n",
              "\n",
              "    .colab-df-convert:hover {\n",
              "      background-color: #E2EBFA;\n",
              "      box-shadow: 0px 1px 2px rgba(60, 64, 67, 0.3), 0px 1px 3px 1px rgba(60, 64, 67, 0.15);\n",
              "      fill: #174EA6;\n",
              "    }\n",
              "\n",
              "    [theme=dark] .colab-df-convert {\n",
              "      background-color: #3B4455;\n",
              "      fill: #D2E3FC;\n",
              "    }\n",
              "\n",
              "    [theme=dark] .colab-df-convert:hover {\n",
              "      background-color: #434B5C;\n",
              "      box-shadow: 0px 1px 3px 1px rgba(0, 0, 0, 0.15);\n",
              "      filter: drop-shadow(0px 1px 2px rgba(0, 0, 0, 0.3));\n",
              "      fill: #FFFFFF;\n",
              "    }\n",
              "  </style>\n",
              "\n",
              "      <script>\n",
              "        const buttonEl =\n",
              "          document.querySelector('#df-af8d9c1e-d80e-4287-a601-991db4ef4196 button.colab-df-convert');\n",
              "        buttonEl.style.display =\n",
              "          google.colab.kernel.accessAllowed ? 'block' : 'none';\n",
              "\n",
              "        async function convertToInteractive(key) {\n",
              "          const element = document.querySelector('#df-af8d9c1e-d80e-4287-a601-991db4ef4196');\n",
              "          const dataTable =\n",
              "            await google.colab.kernel.invokeFunction('convertToInteractive',\n",
              "                                                     [key], {});\n",
              "          if (!dataTable) return;\n",
              "\n",
              "          const docLinkHtml = 'Like what you see? Visit the ' +\n",
              "            '<a target=\"_blank\" href=https://colab.research.google.com/notebooks/data_table.ipynb>data table notebook</a>'\n",
              "            + ' to learn more about interactive tables.';\n",
              "          element.innerHTML = '';\n",
              "          dataTable['output_type'] = 'display_data';\n",
              "          await google.colab.output.renderOutput(dataTable, element);\n",
              "          const docLink = document.createElement('div');\n",
              "          docLink.innerHTML = docLinkHtml;\n",
              "          element.appendChild(docLink);\n",
              "        }\n",
              "      </script>\n",
              "    </div>\n",
              "  </div>\n",
              "  "
            ]
          },
          "metadata": {},
          "execution_count": 66
        }
      ],
      "source": [
        "counts[['the','metro','is','just','terrible', 'there','are','fast','jet', 'passing','over','my']]"
      ]
    },
    {
      "cell_type": "markdown",
      "metadata": {
        "id": "hsJYXUNmNsa-"
      },
      "source": [
        "LOGISTIC REGRESSION"
      ]
    },
    {
      "cell_type": "code",
      "execution_count": null,
      "metadata": {
        "id": "_hcBnw3dVvXV"
      },
      "outputs": [],
      "source": [
        "# Hyper parameter tuning for logistic regression "
      ]
    },
    {
      "cell_type": "code",
      "execution_count": null,
      "metadata": {
        "id": "fk8DqRYmUCb3"
      },
      "outputs": [],
      "source": [
        "logModel = LogisticRegression()\n",
        "param_grid = [    \n",
        "    {   \n",
        "        'C' : np.logspace(-4, 4, 20),\n",
        "        'solver' : ['lbfgs','newton-cg','liblinear','sag','saga'],\n",
        "     \n",
        "    }\n",
        "]\n",
        "\n",
        "        "
      ]
    },
    {
      "cell_type": "code",
      "execution_count": null,
      "metadata": {
        "id": "oSQaySbrmKF1"
      },
      "outputs": [],
      "source": [
        "clf = GridSearchCV(logModel, param_grid = param_grid, cv = 5, verbose=True, n_jobs=-1)\n",
        "best_clf = clf.fit(X_train,y_train)"
      ]
    },
    {
      "cell_type": "code",
      "execution_count": null,
      "metadata": {
        "colab": {
          "base_uri": "https://localhost:8080/"
        },
        "id": "4SWASjq1eTAw",
        "outputId": "a59cab45-b4c0-4a01-9d68-aa070d0f7423"
      },
      "outputs": [
        {
          "data": {
            "text/plain": [
              "LogisticRegression(C=1438.44988828766, solver='saga')"
            ]
          },
          "execution_count": 50,
          "metadata": {},
          "output_type": "execute_result"
        }
      ],
      "source": [
        "best_clf.best_estimator_"
      ]
    },
    {
      "cell_type": "code",
      "source": [
        "from sklearn.decomposition import TruncatedSVD\n",
        "\n",
        "n_comp = 1000\n",
        "tsvd = TruncatedSVD(n_components = n_comp  , random_state = 42)\n",
        "X_train = tsvd.fit_transform(X_train)\n",
        "X_test = tsvd.transform(X_test)\n"
      ],
      "metadata": {
        "id": "aSrEz2nklPFs"
      },
      "execution_count": null,
      "outputs": []
    },
    {
      "cell_type": "code",
      "execution_count": null,
      "metadata": {
        "colab": {
          "base_uri": "https://localhost:8080/"
        },
        "id": "dJG8_iqKjQbA",
        "outputId": "30dd80e4-c2d5-4199-f60a-87c584c74df1"
      },
      "outputs": [
        {
          "output_type": "stream",
          "name": "stdout",
          "text": [
            "[[715 216]\n",
            " [283 787]]\n"
          ]
        }
      ],
      "source": [
        "logistic = LogisticRegression(C =1, max_iter = 1000, solver= 'saga').fit(X_train,y_train)\n",
        "#testing\n",
        "y_pred2= logistic.predict(X_test)\n",
        "print(confusion_matrix(y_pred2,y_test))"
      ]
    },
    {
      "cell_type": "code",
      "execution_count": null,
      "metadata": {
        "colab": {
          "base_uri": "https://localhost:8080/"
        },
        "id": "W3jj0nfqN_w5",
        "outputId": "b88e60de-d045-4164-acd7-36f4309d554d"
      },
      "outputs": [
        {
          "output_type": "stream",
          "name": "stdout",
          "text": [
            "              precision    recall  f1-score   support\n",
            "\n",
            "           0       0.72      0.77      0.74       931\n",
            "           1       0.78      0.74      0.76      1070\n",
            "\n",
            "    accuracy                           0.75      2001\n",
            "   macro avg       0.75      0.75      0.75      2001\n",
            "weighted avg       0.75      0.75      0.75      2001\n",
            "\n"
          ]
        }
      ],
      "source": [
        "print(classification_report(y_pred2,y_test))\n",
        "#Got 0.75 accuracy in logistic regression"
      ]
    },
    {
      "cell_type": "code",
      "execution_count": null,
      "metadata": {
        "id": "fHI7-8mJmzxi"
      },
      "outputs": [],
      "source": [
        "# dataframe for test and predicted sentiments (from logistic regression model)\n",
        "LRtest = pd.DataFrame(list(zip((vectoriser.inverse_transform(X_test)) ,y_pred2, y_test)),\n",
        "                    columns = ['TEST_TWEETS', 'PREDICTED' , 'ORIGINAL'])"
      ]
    },
    {
      "cell_type": "code",
      "execution_count": null,
      "metadata": {
        "colab": {
          "base_uri": "https://localhost:8080/",
          "height": 424
        },
        "id": "EIn-Qq7y1Q0Q",
        "outputId": "1de9bbb0-d63a-46cc-d7aa-87a928b62bbf"
      },
      "outputs": [
        {
          "output_type": "execute_result",
          "data": {
            "text/plain": [
              "                                            TEST_TWEETS  PREDICTED  ORIGINAL\n",
              "0     [back, back to, good, im, now, now im, state, to]          1         1\n",
              "1     [hour, it, it only, maybe, maybe it, new, only...          1         0\n",
              "2     [delete, getting, haa, it, know, last, not, wh...          0         0\n",
              "3     [cant, cant wait, cant wait to, cd, different,...          1         0\n",
              "4        [have, have no, life, lol, no, no life, sadly]          0         0\n",
              "...                                                 ...        ...       ...\n",
              "1996  [but, done, good, good thing, lot, not, thing,...          1         1\n",
              "1997  [course, cream, dinner, done, done with, ice, ...          1         1\n",
              "1998                             [but, this, url, want]          0         0\n",
              "1999                [and, for, for me, great, me, with]          1         1\n",
              "2000  [at, at church, church, did, go, her, just, on...          1         1\n",
              "\n",
              "[2001 rows x 3 columns]"
            ],
            "text/html": [
              "\n",
              "  <div id=\"df-619d6efb-3635-4e06-8494-1e29c9e0d568\">\n",
              "    <div class=\"colab-df-container\">\n",
              "      <div>\n",
              "<style scoped>\n",
              "    .dataframe tbody tr th:only-of-type {\n",
              "        vertical-align: middle;\n",
              "    }\n",
              "\n",
              "    .dataframe tbody tr th {\n",
              "        vertical-align: top;\n",
              "    }\n",
              "\n",
              "    .dataframe thead th {\n",
              "        text-align: right;\n",
              "    }\n",
              "</style>\n",
              "<table border=\"1\" class=\"dataframe\">\n",
              "  <thead>\n",
              "    <tr style=\"text-align: right;\">\n",
              "      <th></th>\n",
              "      <th>TEST_TWEETS</th>\n",
              "      <th>PREDICTED</th>\n",
              "      <th>ORIGINAL</th>\n",
              "    </tr>\n",
              "  </thead>\n",
              "  <tbody>\n",
              "    <tr>\n",
              "      <th>0</th>\n",
              "      <td>[back, back to, good, im, now, now im, state, to]</td>\n",
              "      <td>1</td>\n",
              "      <td>1</td>\n",
              "    </tr>\n",
              "    <tr>\n",
              "      <th>1</th>\n",
              "      <td>[hour, it, it only, maybe, maybe it, new, only...</td>\n",
              "      <td>1</td>\n",
              "      <td>0</td>\n",
              "    </tr>\n",
              "    <tr>\n",
              "      <th>2</th>\n",
              "      <td>[delete, getting, haa, it, know, last, not, wh...</td>\n",
              "      <td>0</td>\n",
              "      <td>0</td>\n",
              "    </tr>\n",
              "    <tr>\n",
              "      <th>3</th>\n",
              "      <td>[cant, cant wait, cant wait to, cd, different,...</td>\n",
              "      <td>1</td>\n",
              "      <td>0</td>\n",
              "    </tr>\n",
              "    <tr>\n",
              "      <th>4</th>\n",
              "      <td>[have, have no, life, lol, no, no life, sadly]</td>\n",
              "      <td>0</td>\n",
              "      <td>0</td>\n",
              "    </tr>\n",
              "    <tr>\n",
              "      <th>...</th>\n",
              "      <td>...</td>\n",
              "      <td>...</td>\n",
              "      <td>...</td>\n",
              "    </tr>\n",
              "    <tr>\n",
              "      <th>1996</th>\n",
              "      <td>[but, done, good, good thing, lot, not, thing,...</td>\n",
              "      <td>1</td>\n",
              "      <td>1</td>\n",
              "    </tr>\n",
              "    <tr>\n",
              "      <th>1997</th>\n",
              "      <td>[course, cream, dinner, done, done with, ice, ...</td>\n",
              "      <td>1</td>\n",
              "      <td>1</td>\n",
              "    </tr>\n",
              "    <tr>\n",
              "      <th>1998</th>\n",
              "      <td>[but, this, url, want]</td>\n",
              "      <td>0</td>\n",
              "      <td>0</td>\n",
              "    </tr>\n",
              "    <tr>\n",
              "      <th>1999</th>\n",
              "      <td>[and, for, for me, great, me, with]</td>\n",
              "      <td>1</td>\n",
              "      <td>1</td>\n",
              "    </tr>\n",
              "    <tr>\n",
              "      <th>2000</th>\n",
              "      <td>[at, at church, church, did, go, her, just, on...</td>\n",
              "      <td>1</td>\n",
              "      <td>1</td>\n",
              "    </tr>\n",
              "  </tbody>\n",
              "</table>\n",
              "<p>2001 rows × 3 columns</p>\n",
              "</div>\n",
              "      <button class=\"colab-df-convert\" onclick=\"convertToInteractive('df-619d6efb-3635-4e06-8494-1e29c9e0d568')\"\n",
              "              title=\"Convert this dataframe to an interactive table.\"\n",
              "              style=\"display:none;\">\n",
              "        \n",
              "  <svg xmlns=\"http://www.w3.org/2000/svg\" height=\"24px\"viewBox=\"0 0 24 24\"\n",
              "       width=\"24px\">\n",
              "    <path d=\"M0 0h24v24H0V0z\" fill=\"none\"/>\n",
              "    <path d=\"M18.56 5.44l.94 2.06.94-2.06 2.06-.94-2.06-.94-.94-2.06-.94 2.06-2.06.94zm-11 1L8.5 8.5l.94-2.06 2.06-.94-2.06-.94L8.5 2.5l-.94 2.06-2.06.94zm10 10l.94 2.06.94-2.06 2.06-.94-2.06-.94-.94-2.06-.94 2.06-2.06.94z\"/><path d=\"M17.41 7.96l-1.37-1.37c-.4-.4-.92-.59-1.43-.59-.52 0-1.04.2-1.43.59L10.3 9.45l-7.72 7.72c-.78.78-.78 2.05 0 2.83L4 21.41c.39.39.9.59 1.41.59.51 0 1.02-.2 1.41-.59l7.78-7.78 2.81-2.81c.8-.78.8-2.07 0-2.86zM5.41 20L4 18.59l7.72-7.72 1.47 1.35L5.41 20z\"/>\n",
              "  </svg>\n",
              "      </button>\n",
              "      \n",
              "  <style>\n",
              "    .colab-df-container {\n",
              "      display:flex;\n",
              "      flex-wrap:wrap;\n",
              "      gap: 12px;\n",
              "    }\n",
              "\n",
              "    .colab-df-convert {\n",
              "      background-color: #E8F0FE;\n",
              "      border: none;\n",
              "      border-radius: 50%;\n",
              "      cursor: pointer;\n",
              "      display: none;\n",
              "      fill: #1967D2;\n",
              "      height: 32px;\n",
              "      padding: 0 0 0 0;\n",
              "      width: 32px;\n",
              "    }\n",
              "\n",
              "    .colab-df-convert:hover {\n",
              "      background-color: #E2EBFA;\n",
              "      box-shadow: 0px 1px 2px rgba(60, 64, 67, 0.3), 0px 1px 3px 1px rgba(60, 64, 67, 0.15);\n",
              "      fill: #174EA6;\n",
              "    }\n",
              "\n",
              "    [theme=dark] .colab-df-convert {\n",
              "      background-color: #3B4455;\n",
              "      fill: #D2E3FC;\n",
              "    }\n",
              "\n",
              "    [theme=dark] .colab-df-convert:hover {\n",
              "      background-color: #434B5C;\n",
              "      box-shadow: 0px 1px 3px 1px rgba(0, 0, 0, 0.15);\n",
              "      filter: drop-shadow(0px 1px 2px rgba(0, 0, 0, 0.3));\n",
              "      fill: #FFFFFF;\n",
              "    }\n",
              "  </style>\n",
              "\n",
              "      <script>\n",
              "        const buttonEl =\n",
              "          document.querySelector('#df-619d6efb-3635-4e06-8494-1e29c9e0d568 button.colab-df-convert');\n",
              "        buttonEl.style.display =\n",
              "          google.colab.kernel.accessAllowed ? 'block' : 'none';\n",
              "\n",
              "        async function convertToInteractive(key) {\n",
              "          const element = document.querySelector('#df-619d6efb-3635-4e06-8494-1e29c9e0d568');\n",
              "          const dataTable =\n",
              "            await google.colab.kernel.invokeFunction('convertToInteractive',\n",
              "                                                     [key], {});\n",
              "          if (!dataTable) return;\n",
              "\n",
              "          const docLinkHtml = 'Like what you see? Visit the ' +\n",
              "            '<a target=\"_blank\" href=https://colab.research.google.com/notebooks/data_table.ipynb>data table notebook</a>'\n",
              "            + ' to learn more about interactive tables.';\n",
              "          element.innerHTML = '';\n",
              "          dataTable['output_type'] = 'display_data';\n",
              "          await google.colab.output.renderOutput(dataTable, element);\n",
              "          const docLink = document.createElement('div');\n",
              "          docLink.innerHTML = docLinkHtml;\n",
              "          element.appendChild(docLink);\n",
              "        }\n",
              "      </script>\n",
              "    </div>\n",
              "  </div>\n",
              "  "
            ]
          },
          "metadata": {},
          "execution_count": 110
        }
      ],
      "source": [
        "LRtest"
      ]
    },
    {
      "cell_type": "code",
      "execution_count": null,
      "metadata": {
        "id": "7kzifW5uXo7w"
      },
      "outputs": [],
      "source": [
        "def model_evaluate(model):\n",
        "    y_pred = model.predict(X_test)\n",
        "    print(classification_report(y_test, y_pred))\n",
        "    # confusion report\n",
        "    cf_matrix = confusion_matrix(y_test, y_pred)\n",
        "    categories = ['Negative', 'Positive']\n",
        "    group_names = ['True Neg', 'False Pos','False Neg','True Pos']\n",
        "    group_percentages = ['{0:.2%}'.format(value) for value in cf_matrix.flatten() / np.sum(cf_matrix)]\n",
        "    labels = [f'{v1}\\n{v2}' for v1, v2 in zip(group_names,group_percentages)]\n",
        "    labels = np.asarray(labels).reshape(2,2)\n",
        "    sns.heatmap(cf_matrix, annot = labels, cmap = 'Blues',fmt = '',\n",
        "                xticklabels = categories, yticklabels = categories)\n",
        "    plt.xlabel(\"Predicted values\", fontdict = {'size':14}, labelpad = 10)\n",
        "    plt.ylabel(\"Actual values\"   , fontdict = {'size':14}, labelpad = 10)\n",
        "    plt.title (\"Confusion Matrix\", fontdict = {'size':18}, pad = 20)"
      ]
    },
    {
      "cell_type": "code",
      "execution_count": null,
      "metadata": {
        "colab": {
          "base_uri": "https://localhost:8080/",
          "height": 479
        },
        "id": "JxnL5o6MV9VC",
        "outputId": "2067bc0c-79fb-4921-9894-170da6fd2563"
      },
      "outputs": [
        {
          "output_type": "stream",
          "name": "stdout",
          "text": [
            "              precision    recall  f1-score   support\n",
            "\n",
            "           0       0.77      0.72      0.74       998\n",
            "           1       0.74      0.78      0.76      1003\n",
            "\n",
            "    accuracy                           0.75      2001\n",
            "   macro avg       0.75      0.75      0.75      2001\n",
            "weighted avg       0.75      0.75      0.75      2001\n",
            "\n"
          ]
        },
        {
          "output_type": "display_data",
          "data": {
            "text/plain": [
              "<Figure size 432x288 with 2 Axes>"
            ],
            "image/png": "[encoded data removed]"
          },
          "metadata": {
            "needs_background": "light"
          }
        }
      ],
      "source": [
        "model_evaluate(logistic)"
      ]
    },
    {
      "cell_type": "markdown",
      "metadata": {
        "id": "v9DeAlmPGbUH"
      },
      "source": [
        "NAIVE BAYES MODEL"
      ]
    },
    {
      "cell_type": "code",
      "execution_count": null,
      "metadata": {
        "colab": {
          "base_uri": "https://localhost:8080/"
        },
        "id": "fordk30VGlUV",
        "outputId": "3c247657-ad62-47d4-ce1a-f305154a9b87"
      },
      "outputs": [
        {
          "output_type": "stream",
          "name": "stdout",
          "text": [
            "Fitting 5 folds for each of 5 candidates, totalling 25 fits\n",
            "Best Parameters :  {'alpha': 1.0}\n"
          ]
        },
        {
          "output_type": "execute_result",
          "data": {
            "text/plain": [
              "{'alpha': 1.0}"
            ]
          },
          "metadata": {},
          "execution_count": 86
        }
      ],
      "source": [
        "nb_classifier = BernoulliNB()\n",
        "#Hyper parameter tuning for bernouli naive bayes\n",
        "params_NB = { 'alpha': [0.01, 0.1, 0.5, 1.0, 10.0]}\n",
        "gs_NB = GridSearchCV(estimator=nb_classifier, \n",
        "                 param_grid=params_NB, \n",
        "                 cv=5,   #number of cross-validation \n",
        "                 verbose=True, \n",
        "                 n_jobs=-1)\n",
        "gs_NB.fit(X_train, y_train)\n",
        "print('Best Parameters : ',gs_NB.best_params_)\n",
        "gs_NB.best_params_"
      ]
    },
    {
      "cell_type": "code",
      "execution_count": null,
      "metadata": {
        "id": "EmPTloqrZCUh"
      },
      "outputs": [],
      "source": [
        "BNBmodel = BernoulliNB(alpha=1)\n",
        "BNBmodel.fit(X_train, y_train)\n",
        " \n",
        "y_predBNB = BNBmodel.predict(X_test)\n",
        "\n"
      ]
    },
    {
      "cell_type": "code",
      "execution_count": null,
      "metadata": {
        "colab": {
          "base_uri": "https://localhost:8080/"
        },
        "id": "yk3QJBafaVq4",
        "outputId": "0b3b0865-5f77-42e8-f155-06ec64147eb5"
      },
      "outputs": [
        {
          "output_type": "stream",
          "name": "stdout",
          "text": [
            "[[661 348]\n",
            " [337 655]]\n",
            "              precision    recall  f1-score   support\n",
            "\n",
            "           0       0.66      0.66      0.66      1009\n",
            "           1       0.65      0.66      0.66       992\n",
            "\n",
            "    accuracy                           0.66      2001\n",
            "   macro avg       0.66      0.66      0.66      2001\n",
            "weighted avg       0.66      0.66      0.66      2001\n",
            "\n"
          ]
        }
      ],
      "source": [
        "#Bernouli naive bayes\n",
        "print(confusion_matrix(y_predBNB,y_test))\n",
        "print(classification_report(y_predBNB,y_test))\n"
      ]
    },
    {
      "cell_type": "code",
      "execution_count": null,
      "metadata": {
        "id": "zWmcvtJr4uvA"
      },
      "outputs": [],
      "source": [
        "Naivetest = pd.DataFrame(list(zip((vectoriser.inverse_transform(X_test)) ,y_predBNB, y_test)),\n",
        "                    columns = ['TEST_TWEETS', 'PREDICTED' , 'ORIGINAL'])"
      ]
    },
    {
      "cell_type": "code",
      "execution_count": null,
      "metadata": {
        "colab": {
          "base_uri": "https://localhost:8080/",
          "height": 424
        },
        "id": "Nxe4SkKrOaBS",
        "outputId": "ce476d8f-abe4-4a67-c4c8-99cd23c1eb8f"
      },
      "outputs": [
        {
          "output_type": "execute_result",
          "data": {
            "text/plain": [
              "                                            TEST_TWEETS  PREDICTED  ORIGINAL\n",
              "0     [back, back to, good, im, now, now im, state, to]          0         1\n",
              "1     [hour, it, it only, maybe, maybe it, new, only...          0         0\n",
              "2     [delete, getting, haa, it, know, last, not, wh...          0         0\n",
              "3     [cant, cant wait, cant wait to, cd, different,...          0         0\n",
              "4        [have, have no, life, lol, no, no life, sadly]          0         0\n",
              "...                                                 ...        ...       ...\n",
              "1996  [but, done, good, good thing, lot, not, thing,...          1         1\n",
              "1997  [course, cream, dinner, done, done with, ice, ...          1         1\n",
              "1998                             [but, this, url, want]          0         0\n",
              "1999                [and, for, for me, great, me, with]          1         1\n",
              "2000  [at, at church, church, did, go, her, just, on...          0         1\n",
              "\n",
              "[2001 rows x 3 columns]"
            ],
            "text/html": [
              "\n",
              "  <div id=\"df-5ea0ecbe-a7a6-4f01-a795-c0d1c56e3302\">\n",
              "    <div class=\"colab-df-container\">\n",
              "      <div>\n",
              "<style scoped>\n",
              "    .dataframe tbody tr th:only-of-type {\n",
              "        vertical-align: middle;\n",
              "    }\n",
              "\n",
              "    .dataframe tbody tr th {\n",
              "        vertical-align: top;\n",
              "    }\n",
              "\n",
              "    .dataframe thead th {\n",
              "        text-align: right;\n",
              "    }\n",
              "</style>\n",
              "<table border=\"1\" class=\"dataframe\">\n",
              "  <thead>\n",
              "    <tr style=\"text-align: right;\">\n",
              "      <th></th>\n",
              "      <th>TEST_TWEETS</th>\n",
              "      <th>PREDICTED</th>\n",
              "      <th>ORIGINAL</th>\n",
              "    </tr>\n",
              "  </thead>\n",
              "  <tbody>\n",
              "    <tr>\n",
              "      <th>0</th>\n",
              "      <td>[back, back to, good, im, now, now im, state, to]</td>\n",
              "      <td>0</td>\n",
              "      <td>1</td>\n",
              "    </tr>\n",
              "    <tr>\n",
              "      <th>1</th>\n",
              "      <td>[hour, it, it only, maybe, maybe it, new, only...</td>\n",
              "      <td>0</td>\n",
              "      <td>0</td>\n",
              "    </tr>\n",
              "    <tr>\n",
              "      <th>2</th>\n",
              "      <td>[delete, getting, haa, it, know, last, not, wh...</td>\n",
              "      <td>0</td>\n",
              "      <td>0</td>\n",
              "    </tr>\n",
              "    <tr>\n",
              "      <th>3</th>\n",
              "      <td>[cant, cant wait, cant wait to, cd, different,...</td>\n",
              "      <td>0</td>\n",
              "      <td>0</td>\n",
              "    </tr>\n",
              "    <tr>\n",
              "      <th>4</th>\n",
              "      <td>[have, have no, life, lol, no, no life, sadly]</td>\n",
              "      <td>0</td>\n",
              "      <td>0</td>\n",
              "    </tr>\n",
              "    <tr>\n",
              "      <th>...</th>\n",
              "      <td>...</td>\n",
              "      <td>...</td>\n",
              "      <td>...</td>\n",
              "    </tr>\n",
              "    <tr>\n",
              "      <th>1996</th>\n",
              "      <td>[but, done, good, good thing, lot, not, thing,...</td>\n",
              "      <td>1</td>\n",
              "      <td>1</td>\n",
              "    </tr>\n",
              "    <tr>\n",
              "      <th>1997</th>\n",
              "      <td>[course, cream, dinner, done, done with, ice, ...</td>\n",
              "      <td>1</td>\n",
              "      <td>1</td>\n",
              "    </tr>\n",
              "    <tr>\n",
              "      <th>1998</th>\n",
              "      <td>[but, this, url, want]</td>\n",
              "      <td>0</td>\n",
              "      <td>0</td>\n",
              "    </tr>\n",
              "    <tr>\n",
              "      <th>1999</th>\n",
              "      <td>[and, for, for me, great, me, with]</td>\n",
              "      <td>1</td>\n",
              "      <td>1</td>\n",
              "    </tr>\n",
              "    <tr>\n",
              "      <th>2000</th>\n",
              "      <td>[at, at church, church, did, go, her, just, on...</td>\n",
              "      <td>0</td>\n",
              "      <td>1</td>\n",
              "    </tr>\n",
              "  </tbody>\n",
              "</table>\n",
              "<p>2001 rows × 3 columns</p>\n",
              "</div>\n",
              "      <button class=\"colab-df-convert\" onclick=\"convertToInteractive('df-5ea0ecbe-a7a6-4f01-a795-c0d1c56e3302')\"\n",
              "              title=\"Convert this dataframe to an interactive table.\"\n",
              "              style=\"display:none;\">\n",
              "        \n",
              "  <svg xmlns=\"http://www.w3.org/2000/svg\" height=\"24px\"viewBox=\"0 0 24 24\"\n",
              "       width=\"24px\">\n",
              "    <path d=\"M0 0h24v24H0V0z\" fill=\"none\"/>\n",
              "    <path d=\"M18.56 5.44l.94 2.06.94-2.06 2.06-.94-2.06-.94-.94-2.06-.94 2.06-2.06.94zm-11 1L8.5 8.5l.94-2.06 2.06-.94-2.06-.94L8.5 2.5l-.94 2.06-2.06.94zm10 10l.94 2.06.94-2.06 2.06-.94-2.06-.94-.94-2.06-.94 2.06-2.06.94z\"/><path d=\"M17.41 7.96l-1.37-1.37c-.4-.4-.92-.59-1.43-.59-.52 0-1.04.2-1.43.59L10.3 9.45l-7.72 7.72c-.78.78-.78 2.05 0 2.83L4 21.41c.39.39.9.59 1.41.59.51 0 1.02-.2 1.41-.59l7.78-7.78 2.81-2.81c.8-.78.8-2.07 0-2.86zM5.41 20L4 18.59l7.72-7.72 1.47 1.35L5.41 20z\"/>\n",
              "  </svg>\n",
              "      </button>\n",
              "      \n",
              "  <style>\n",
              "    .colab-df-container {\n",
              "      display:flex;\n",
              "      flex-wrap:wrap;\n",
              "      gap: 12px;\n",
              "    }\n",
              "\n",
              "    .colab-df-convert {\n",
              "      background-color: #E8F0FE;\n",
              "      border: none;\n",
              "      border-radius: 50%;\n",
              "      cursor: pointer;\n",
              "      display: none;\n",
              "      fill: #1967D2;\n",
              "      height: 32px;\n",
              "      padding: 0 0 0 0;\n",
              "      width: 32px;\n",
              "    }\n",
              "\n",
              "    .colab-df-convert:hover {\n",
              "      background-color: #E2EBFA;\n",
              "      box-shadow: 0px 1px 2px rgba(60, 64, 67, 0.3), 0px 1px 3px 1px rgba(60, 64, 67, 0.15);\n",
              "      fill: #174EA6;\n",
              "    }\n",
              "\n",
              "    [theme=dark] .colab-df-convert {\n",
              "      background-color: #3B4455;\n",
              "      fill: #D2E3FC;\n",
              "    }\n",
              "\n",
              "    [theme=dark] .colab-df-convert:hover {\n",
              "      background-color: #434B5C;\n",
              "      box-shadow: 0px 1px 3px 1px rgba(0, 0, 0, 0.15);\n",
              "      filter: drop-shadow(0px 1px 2px rgba(0, 0, 0, 0.3));\n",
              "      fill: #FFFFFF;\n",
              "    }\n",
              "  </style>\n",
              "\n",
              "      <script>\n",
              "        const buttonEl =\n",
              "          document.querySelector('#df-5ea0ecbe-a7a6-4f01-a795-c0d1c56e3302 button.colab-df-convert');\n",
              "        buttonEl.style.display =\n",
              "          google.colab.kernel.accessAllowed ? 'block' : 'none';\n",
              "\n",
              "        async function convertToInteractive(key) {\n",
              "          const element = document.querySelector('#df-5ea0ecbe-a7a6-4f01-a795-c0d1c56e3302');\n",
              "          const dataTable =\n",
              "            await google.colab.kernel.invokeFunction('convertToInteractive',\n",
              "                                                     [key], {});\n",
              "          if (!dataTable) return;\n",
              "\n",
              "          const docLinkHtml = 'Like what you see? Visit the ' +\n",
              "            '<a target=\"_blank\" href=https://colab.research.google.com/notebooks/data_table.ipynb>data table notebook</a>'\n",
              "            + ' to learn more about interactive tables.';\n",
              "          element.innerHTML = '';\n",
              "          dataTable['output_type'] = 'display_data';\n",
              "          await google.colab.output.renderOutput(dataTable, element);\n",
              "          const docLink = document.createElement('div');\n",
              "          docLink.innerHTML = docLinkHtml;\n",
              "          element.appendChild(docLink);\n",
              "        }\n",
              "      </script>\n",
              "    </div>\n",
              "  </div>\n",
              "  "
            ]
          },
          "metadata": {},
          "execution_count": 90
        }
      ],
      "source": [
        "Naivetest"
      ]
    },
    {
      "cell_type": "code",
      "execution_count": null,
      "metadata": {
        "id": "OZtOfvemD9nm"
      },
      "outputs": [],
      "source": [
        "X_train_new, y_train_new = X_train, y_train\n",
        "X1, X2 = np.meshgrid(np.arange(start=X_train_new[:, 0].min()-1,stop = X_train_new[:, 0].max()+1,step=0.01),\n",
        "                     np.arange(start = X_train_new[:, 1].min()-1,stop=X_train_new[:, 1].max()+1,step = 0.01)) #created a 2-Dimensional grid structure"
      ]
    },
    {
      "cell_type": "code",
      "execution_count": null,
      "metadata": {
        "colab": {
          "base_uri": "https://localhost:8080/"
        },
        "id": "yrDLjyFkUa4w",
        "outputId": "e8d190ae-076c-40da-cd02-c3a234b0ad63"
      },
      "outputs": [
        {
          "output_type": "execute_result",
          "data": {
            "text/plain": [
              "(1198, 710)"
            ]
          },
          "metadata": {},
          "execution_count": 115
        }
      ],
      "source": [
        "X2.shape"
      ]
    },
    {
      "cell_type": "code",
      "execution_count": null,
      "metadata": {
        "colab": {
          "base_uri": "https://localhost:8080/"
        },
        "id": "IO511kAPUoF3",
        "outputId": "084539a8-cc68-4a66-fbf6-5971b2c8e939"
      },
      "outputs": [
        {
          "output_type": "execute_result",
          "data": {
            "text/plain": [
              "(1198, 710)"
            ]
          },
          "metadata": {},
          "execution_count": 116
        }
      ],
      "source": [
        "X1.shape"
      ]
    },
    {
      "cell_type": "code",
      "execution_count": null,
      "metadata": {
        "colab": {
          "base_uri": "https://localhost:8080/",
          "height": 497
        },
        "id": "_CXzjg08Vqpj",
        "outputId": "b6cdbdf4-6779-49e9-8788-eb1e65a36fe7"
      },
      "outputs": [
        {
          "output_type": "display_data",
          "data": {
            "text/plain": [
              "<Figure size 576x576 with 1 Axes>"
            ],
            "image/png": "[encoded data removed]"
          },
          "metadata": {
            "needs_background": "light"
          }
        }
      ],
      "source": [
        "fpr_dt_1, tpr_dt_1,_=roc_curve(y_test,BNBmodel.predict_proba(X_test)[:,1])\n",
        "plt.plot(fpr_dt_1,tpr_dt_1,label=\"ROC curve\")\n",
        "plt.xlabel('False Positive Rate')\n",
        "plt.ylabel('True Positive Rate')\n",
        "plt.legend()\n",
        "plt.gcf().set_size_inches(8, 8)\n",
        "plt.show()"
      ]
    },
    {
      "cell_type": "markdown",
      "metadata": {
        "id": "Eb0Vs6GaoW2l"
      },
      "source": [
        "SVM"
      ]
    },
    {
      "cell_type": "code",
      "execution_count": null,
      "metadata": {
        "colab": {
          "base_uri": "https://localhost:8080/"
        },
        "id": "1uYnGmIs5aTe",
        "outputId": "7ea02280-830b-46ea-a107-5725ce286173"
      },
      "outputs": [
        {
          "name": "stdout",
          "output_type": "stream",
          "text": [
            "Fitting 3 folds for each of 12 candidates, totalling 36 fits\n",
            "0.7183740535808868\n",
            "SVC(C=1)\n"
          ]
        }
      ],
      "source": [
        "hyper = {\n",
        "       \n",
        "     'C':[0.05,0.1,0.2,0.3,0.25,0.4,0.5,0.6,0.7,0.8,0.9,1],\n",
        "     'gamma':[0.1,0.2,0.3,0.4,0.5,0.6,0.7,0.8,0.9,1.0],\n",
        "      'kernel':['rbf','linear','poly']\n",
        "        }\n",
        "#Hyper parameter tunning for SVM\n",
        "gdsvm=GridSearchCV(estimator=svm.SVC(),param_grid=hyper, cv = 5, verbose=True, n_jobs=-1)\n",
        "\n",
        "gdsvm.fit(X_train,y_train)\n",
        "print(gdsvm.best_score_)\n",
        "print(gdsvm.best_estimator_)"
      ]
    },
    {
      "cell_type": "code",
      "execution_count": null,
      "metadata": {
        "id": "29j-FBlm-0uc"
      },
      "outputs": [],
      "source": [
        "\"\"\"\n",
        "Fitting 3 folds for each of 2 candidates, totalling 6 fits\n",
        "\n",
        "0.7261252883524593\n",
        "SVC(kernel='linear')\n",
        "\n",
        "0.7003755063250252\n",
        "SVC(gamma=0.1)\n",
        "\n",
        "0.7238757570907537\n",
        "SVC(C=1)\n",
        "\n",
        "\"\"\""
      ]
    },
    {
      "cell_type": "code",
      "execution_count": null,
      "metadata": {
        "colab": {
          "base_uri": "https://localhost:8080/"
        },
        "id": "QJXVzSQpDpQG",
        "outputId": "de2e7ac2-4df9-4d9b-8b94-cf0fa0cd80a2"
      },
      "outputs": [
        {
          "output_type": "stream",
          "name": "stdout",
          "text": [
            "[[706 219]\n",
            " [292 784]]\n"
          ]
        }
      ],
      "source": [
        "clf = svm.SVC(kernel='linear',gamma=0.1,C=1) \n",
        "clf.fit(X_train, y_train)\n",
        "\n",
        "y_predsvmgrid = clf.predict(X_test)\n",
        "print(confusion_matrix(y_predsvmgrid,y_test))"
      ]
    },
    {
      "cell_type": "code",
      "execution_count": null,
      "metadata": {
        "colab": {
          "base_uri": "https://localhost:8080/"
        },
        "id": "yNDdsDfNEExh",
        "outputId": "83d29a6a-4b28-4fa4-e998-0a1b2f231a57"
      },
      "outputs": [
        {
          "output_type": "stream",
          "name": "stdout",
          "text": [
            "              precision    recall  f1-score   support\n",
            "\n",
            "           0       0.71      0.76      0.73       925\n",
            "           1       0.78      0.73      0.75      1076\n",
            "\n",
            "    accuracy                           0.74      2001\n",
            "   macro avg       0.74      0.75      0.74      2001\n",
            "weighted avg       0.75      0.74      0.74      2001\n",
            "\n"
          ]
        }
      ],
      "source": [
        "print(classification_report(y_predsvmgrid,y_test))"
      ]
    },
    {
      "cell_type": "markdown",
      "metadata": {
        "id": "61KsuloSouMZ"
      },
      "source": [
        "Random Forest"
      ]
    },
    {
      "cell_type": "code",
      "execution_count": null,
      "metadata": {
        "id": "pIcH9mQBrWXZ"
      },
      "outputs": [],
      "source": [
        "rfc=RandomForestClassifier(random_state=42)\n",
        "rfcparam_grid = { \n",
        "    'n_estimators': [200, 500],\n",
        "    'max_features': ['auto', 'sqrt', 'log2'],\n",
        "    'max_depth' : [4,5,6,7,8],\n",
        "    'criterion' :['gini', 'entropy']\n",
        "}\n"
      ]
    },
    {
      "cell_type": "code",
      "execution_count": null,
      "metadata": {
        "colab": {
          "base_uri": "https://localhost:8080/"
        },
        "id": "9_PUiCD8rq3h",
        "outputId": "eceeedcf-7408-4d65-a471-35128f762f1e"
      },
      "outputs": [
        {
          "data": {
            "text/plain": [
              "GridSearchCV(cv=5, estimator=RandomForestClassifier(random_state=42),\n",
              "             param_grid={'criterion': ['gini', 'entropy'],\n",
              "                         'max_depth': [4, 5, 6, 7, 8],\n",
              "                         'max_features': ['auto', 'sqrt', 'log2'],\n",
              "                         'n_estimators': [200, 500]})"
            ]
          },
          "execution_count": 116,
          "metadata": {},
          "output_type": "execute_result"
        }
      ],
      "source": [
        "CV_rfc = GridSearchCV(estimator=rfc, param_grid=rfcparam_grid, cv= 5)\n",
        "CV_rfc.fit(X_train, y_train)"
      ]
    },
    {
      "cell_type": "code",
      "execution_count": null,
      "metadata": {
        "colab": {
          "base_uri": "https://localhost:8080/"
        },
        "id": "Iv09xFumr2mp",
        "outputId": "0af448c4-77ac-481d-c286-e47a310769e2"
      },
      "outputs": [
        {
          "data": {
            "text/plain": [
              "{'criterion': 'gini',\n",
              " 'max_depth': 8,\n",
              " 'max_features': 'auto',\n",
              " 'n_estimators': 500}"
            ]
          },
          "execution_count": 117,
          "metadata": {},
          "output_type": "execute_result"
        }
      ],
      "source": [
        "CV_rfc.best_params_"
      ]
    },
    {
      "cell_type": "code",
      "execution_count": null,
      "metadata": {
        "id": "E4r6bj8_uuvE"
      },
      "outputs": [],
      "source": [
        "clf = RandomForestClassifier(n_estimators = 500,max_features = 'auto', max_depth=8,criterion='gini') \n",
        "clf.fit(X_train, y_train)\n",
        "y_predrfc = clf.predict(X_test)\n",
        "#from sklearn import metrics \n",
        "#print(\"ACCURACY OF THE MODEL: \", metrics.accuracy_score(y_test, y_predrfc))"
      ]
    },
    {
      "cell_type": "code",
      "execution_count": null,
      "metadata": {
        "colab": {
          "base_uri": "https://localhost:8080/"
        },
        "id": "YU5yyR5t1sQI",
        "outputId": "8288ca09-71a3-40ab-f0f1-f99954121cd7"
      },
      "outputs": [
        {
          "output_type": "stream",
          "name": "stdout",
          "text": [
            "              precision    recall  f1-score   support\n",
            "\n",
            "           0       0.69      0.71      0.70       967\n",
            "           1       0.72      0.70      0.71      1034\n",
            "\n",
            "    accuracy                           0.70      2001\n",
            "   macro avg       0.70      0.70      0.70      2001\n",
            "weighted avg       0.71      0.70      0.70      2001\n",
            "\n"
          ]
        }
      ],
      "source": [
        "print(classification_report(y_predrfc,y_test))"
      ]
    },
    {
      "cell_type": "markdown",
      "metadata": {
        "id": "rq09URupm0rP"
      },
      "source": [
        "\n",
        "Testing on random tweets\n"
      ]
    },
    {
      "cell_type": "code",
      "execution_count": null,
      "metadata": {
        "colab": {
          "base_uri": "https://localhost:8080/"
        },
        "id": "t4zli7ITWw99",
        "outputId": "dcbbd4c5-b8ba-4598-9c92-aba9cb291c40"
      },
      "outputs": [
        {
          "output_type": "stream",
          "name": "stdout",
          "text": [
            "Tweet is negative\n"
          ]
        }
      ],
      "source": [
        "tweet = 'These Russian have lost this war and they know it. Threatening with nuclear weapons is a sign of monumental failure and weakness.'\n",
        "#tweet = 'This Maha Shivratri, may Lord Shiva destroy all your sorrows and eliminate all the troubles to help you lead a happy and healthy life. Help you become the force of Good '\n",
        "vectTweet = vectoriser.transform(np.array([tweet]))  # vectorizes the tweet using our vectorizer\n",
        "prediction = logistic.predict(vectTweet)  # predicts class of the\n",
        "\n",
        "if(prediction[0] == 1):\n",
        "  print('Tweet is positive')\n",
        "else:\n",
        "  print('Tweet is negative')\n"
      ]
    },
    {
      "cell_type": "code",
      "source": [
        ""
      ],
      "metadata": {
        "id": "yjk3LRYykZRp"
      },
      "execution_count": null,
      "outputs": []
    }
  ],
  "metadata": {
    "accelerator": "GPU",
    "colab": {
      "collapsed_sections": [],
      "name": "sentiment2.ipynb",
      "provenance": []
    },
    "kernelspec": {
      "display_name": "Python 3",
      "name": "python3"
    },
    "language_info": {
      "name": "python"
    }
  },
  "nbformat": 4,
  "nbformat_minor": 0
}